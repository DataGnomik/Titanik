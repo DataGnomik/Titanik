{
 "cells": [
  {
   "cell_type": "code",
   "execution_count": 1,
   "id": "731fe3bf",
   "metadata": {
    "_cell_guid": "b1076dfc-b9ad-4769-8c92-a6c4dae69d19",
    "_uuid": "8f2839f25d086af736a60e9eeb907d3b93b6e0e5",
    "execution": {
     "iopub.execute_input": "2024-01-03T22:54:50.313073Z",
     "iopub.status.busy": "2024-01-03T22:54:50.312635Z",
     "iopub.status.idle": "2024-01-03T22:54:50.783197Z",
     "shell.execute_reply": "2024-01-03T22:54:50.782042Z"
    },
    "papermill": {
     "duration": 0.492622,
     "end_time": "2024-01-03T22:54:50.787397",
     "exception": false,
     "start_time": "2024-01-03T22:54:50.294775",
     "status": "completed"
    },
    "tags": []
   },
   "outputs": [
    {
     "name": "stdout",
     "output_type": "stream",
     "text": [
      "/kaggle/input/titanic/train.csv\n",
      "/kaggle/input/titanic/test.csv\n",
      "/kaggle/input/titanic/gender_submission.csv\n"
     ]
    }
   ],
   "source": [
    "# This Python 3 environment comes with many helpful analytics libraries installed\n",
    "# It is defined by the kaggle/python Docker image: https://github.com/kaggle/docker-python\n",
    "# For example, here's several helpful packages to load\n",
    "\n",
    "import numpy as np # linear algebra\n",
    "import pandas as pd # data processing, CSV file I/O (e.g. pd.read_csv)\n",
    "\n",
    "# Input data files are available in the read-only \"../input/\" directory\n",
    "# For example, running this (by clicking run or pressing Shift+Enter) will list all files under the input directory\n",
    "\n",
    "import os\n",
    "for dirname, _, filenames in os.walk('/kaggle/input'):\n",
    "    for filename in filenames:\n",
    "        print(os.path.join(dirname, filename))\n",
    "\n",
    "# You can write up to 20GB to the current directory (/kaggle/working/) that gets preserved as output when you create a version using \"Save & Run All\" \n",
    "# You can also write temporary files to /kaggle/temp/, but they won't be saved outside of the current session"
   ]
  },
  {
   "cell_type": "code",
   "execution_count": 2,
   "id": "64adadfa",
   "metadata": {
    "execution": {
     "iopub.execute_input": "2024-01-03T22:54:50.822392Z",
     "iopub.status.busy": "2024-01-03T22:54:50.821348Z",
     "iopub.status.idle": "2024-01-03T22:54:53.053656Z",
     "shell.execute_reply": "2024-01-03T22:54:53.052332Z"
    },
    "papermill": {
     "duration": 2.252885,
     "end_time": "2024-01-03T22:54:53.056896",
     "exception": false,
     "start_time": "2024-01-03T22:54:50.804011",
     "status": "completed"
    },
    "tags": []
   },
   "outputs": [],
   "source": [
    "# Импортирем необходимые нам библиотеки\n",
    "import numpy as np\n",
    "import pandas as pd\n",
    "import matplotlib.pyplot  as plt\n",
    "import seaborn as sns\n",
    "\n",
    "from sklearn.preprocessing import LabelEncoder, StandardScaler\n",
    "from sklearn.model_selection import train_test_split, GridSearchCV \n",
    "\n",
    "# Перечислим модели для обучения\n",
    "from sklearn.neighbors import KNeighborsClassifier\n",
    "from sklearn.linear_model import LogisticRegression\n",
    "from sklearn.tree import DecisionTreeClassifier\n",
    "from sklearn.ensemble import RandomForestClassifier\n",
    "from sklearn.ensemble import GradientBoostingClassifier\n",
    "from sklearn.svm import SVC\n",
    "\n",
    "from sklearn.pipeline import Pipeline\n",
    "\n",
    "from sklearn.metrics import roc_curve, auc, accuracy_score, confusion_matrix, classification_report"
   ]
  },
  {
   "cell_type": "code",
   "execution_count": 3,
   "id": "33ae8e4a",
   "metadata": {
    "execution": {
     "iopub.execute_input": "2024-01-03T22:54:53.092310Z",
     "iopub.status.busy": "2024-01-03T22:54:53.090894Z",
     "iopub.status.idle": "2024-01-03T22:54:53.158992Z",
     "shell.execute_reply": "2024-01-03T22:54:53.157823Z"
    },
    "papermill": {
     "duration": 0.089354,
     "end_time": "2024-01-03T22:54:53.162073",
     "exception": false,
     "start_time": "2024-01-03T22:54:53.072719",
     "status": "completed"
    },
    "tags": []
   },
   "outputs": [
    {
     "data": {
      "text/html": [
       "<div>\n",
       "<style scoped>\n",
       "    .dataframe tbody tr th:only-of-type {\n",
       "        vertical-align: middle;\n",
       "    }\n",
       "\n",
       "    .dataframe tbody tr th {\n",
       "        vertical-align: top;\n",
       "    }\n",
       "\n",
       "    .dataframe thead th {\n",
       "        text-align: right;\n",
       "    }\n",
       "</style>\n",
       "<table border=\"1\" class=\"dataframe\">\n",
       "  <thead>\n",
       "    <tr style=\"text-align: right;\">\n",
       "      <th></th>\n",
       "      <th>PassengerId</th>\n",
       "      <th>Survived</th>\n",
       "      <th>Pclass</th>\n",
       "      <th>Name</th>\n",
       "      <th>Sex</th>\n",
       "      <th>Age</th>\n",
       "      <th>SibSp</th>\n",
       "      <th>Parch</th>\n",
       "      <th>Ticket</th>\n",
       "      <th>Fare</th>\n",
       "      <th>Cabin</th>\n",
       "      <th>Embarked</th>\n",
       "    </tr>\n",
       "  </thead>\n",
       "  <tbody>\n",
       "    <tr>\n",
       "      <th>0</th>\n",
       "      <td>1</td>\n",
       "      <td>0</td>\n",
       "      <td>3</td>\n",
       "      <td>Braund, Mr. Owen Harris</td>\n",
       "      <td>male</td>\n",
       "      <td>22.0</td>\n",
       "      <td>1</td>\n",
       "      <td>0</td>\n",
       "      <td>A/5 21171</td>\n",
       "      <td>7.2500</td>\n",
       "      <td>NaN</td>\n",
       "      <td>S</td>\n",
       "    </tr>\n",
       "    <tr>\n",
       "      <th>1</th>\n",
       "      <td>2</td>\n",
       "      <td>1</td>\n",
       "      <td>1</td>\n",
       "      <td>Cumings, Mrs. John Bradley (Florence Briggs Th...</td>\n",
       "      <td>female</td>\n",
       "      <td>38.0</td>\n",
       "      <td>1</td>\n",
       "      <td>0</td>\n",
       "      <td>PC 17599</td>\n",
       "      <td>71.2833</td>\n",
       "      <td>C85</td>\n",
       "      <td>C</td>\n",
       "    </tr>\n",
       "    <tr>\n",
       "      <th>2</th>\n",
       "      <td>3</td>\n",
       "      <td>1</td>\n",
       "      <td>3</td>\n",
       "      <td>Heikkinen, Miss. Laina</td>\n",
       "      <td>female</td>\n",
       "      <td>26.0</td>\n",
       "      <td>0</td>\n",
       "      <td>0</td>\n",
       "      <td>STON/O2. 3101282</td>\n",
       "      <td>7.9250</td>\n",
       "      <td>NaN</td>\n",
       "      <td>S</td>\n",
       "    </tr>\n",
       "    <tr>\n",
       "      <th>3</th>\n",
       "      <td>4</td>\n",
       "      <td>1</td>\n",
       "      <td>1</td>\n",
       "      <td>Futrelle, Mrs. Jacques Heath (Lily May Peel)</td>\n",
       "      <td>female</td>\n",
       "      <td>35.0</td>\n",
       "      <td>1</td>\n",
       "      <td>0</td>\n",
       "      <td>113803</td>\n",
       "      <td>53.1000</td>\n",
       "      <td>C123</td>\n",
       "      <td>S</td>\n",
       "    </tr>\n",
       "    <tr>\n",
       "      <th>4</th>\n",
       "      <td>5</td>\n",
       "      <td>0</td>\n",
       "      <td>3</td>\n",
       "      <td>Allen, Mr. William Henry</td>\n",
       "      <td>male</td>\n",
       "      <td>35.0</td>\n",
       "      <td>0</td>\n",
       "      <td>0</td>\n",
       "      <td>373450</td>\n",
       "      <td>8.0500</td>\n",
       "      <td>NaN</td>\n",
       "      <td>S</td>\n",
       "    </tr>\n",
       "  </tbody>\n",
       "</table>\n",
       "</div>"
      ],
      "text/plain": [
       "   PassengerId  Survived  Pclass  \\\n",
       "0            1         0       3   \n",
       "1            2         1       1   \n",
       "2            3         1       3   \n",
       "3            4         1       1   \n",
       "4            5         0       3   \n",
       "\n",
       "                                                Name     Sex   Age  SibSp  \\\n",
       "0                            Braund, Mr. Owen Harris    male  22.0      1   \n",
       "1  Cumings, Mrs. John Bradley (Florence Briggs Th...  female  38.0      1   \n",
       "2                             Heikkinen, Miss. Laina  female  26.0      0   \n",
       "3       Futrelle, Mrs. Jacques Heath (Lily May Peel)  female  35.0      1   \n",
       "4                           Allen, Mr. William Henry    male  35.0      0   \n",
       "\n",
       "   Parch            Ticket     Fare Cabin Embarked  \n",
       "0      0         A/5 21171   7.2500   NaN        S  \n",
       "1      0          PC 17599  71.2833   C85        C  \n",
       "2      0  STON/O2. 3101282   7.9250   NaN        S  \n",
       "3      0            113803  53.1000  C123        S  \n",
       "4      0            373450   8.0500   NaN        S  "
      ]
     },
     "execution_count": 3,
     "metadata": {},
     "output_type": "execute_result"
    }
   ],
   "source": [
    "# Чтение и загрузка данных\n",
    "\n",
    "train = pd.read_csv(\"/kaggle/input/titanic/train.csv\")\n",
    "test  = pd.read_csv(\"/kaggle/input/titanic/test.csv\")\n",
    "\n",
    "# После загрузки данных, посмотрим на то что мы загрузили))\n",
    "train.head()"
   ]
  },
  {
   "cell_type": "code",
   "execution_count": 4,
   "id": "2f90c58b",
   "metadata": {
    "execution": {
     "iopub.execute_input": "2024-01-03T22:54:53.196773Z",
     "iopub.status.busy": "2024-01-03T22:54:53.195816Z",
     "iopub.status.idle": "2024-01-03T22:54:53.217698Z",
     "shell.execute_reply": "2024-01-03T22:54:53.216463Z"
    },
    "papermill": {
     "duration": 0.042325,
     "end_time": "2024-01-03T22:54:53.220415",
     "exception": false,
     "start_time": "2024-01-03T22:54:53.178090",
     "status": "completed"
    },
    "tags": []
   },
   "outputs": [
    {
     "name": "stdout",
     "output_type": "stream",
     "text": [
      "Размер исходного датасета:\n",
      "В нем: 1309 строчек и 12 столбцов (оригинальный датасет).\n",
      "Размер обучающего датасета:\n",
      "В нем: 891 строчек и 12 столбцов (обучающая выборка).\n",
      "Размер тестового датасета:\n",
      "В нем: 418 строчек и 11 столбцов (тестовая выборка).\n"
     ]
    }
   ],
   "source": [
    "# Поскольку изначальный датасет разделёна на 2 выборки, соеденим их с помощью конкатенации\n",
    "df = pd.concat([train, test], ignore_index=True, sort = False)\n",
    "\n",
    "# Проверим успешность соедниенеия данных для этого узнаем размер исходного датасета, а так же размерности датасетов из которых мы из собрали\n",
    "print('Размер исходного датасета:')\n",
    "print('В нем: {} строчек и {} столбцов (оригинальный датасет).'.format(df.shape[0], df.shape[1]))\n",
    "print('Размер обучающего датасета:')\n",
    "print('В нем: {} строчек и {} столбцов (обучающая выборка).'.format(train.shape[0], train.shape[1]))\n",
    "print('Размер тестового датасета:')\n",
    "print('В нем: {} строчек и {} столбцов (тестовая выборка).'.format(test.shape[0], test.shape[1]))\n"
   ]
  },
  {
   "cell_type": "code",
   "execution_count": 5,
   "id": "dc6a0eca",
   "metadata": {
    "execution": {
     "iopub.execute_input": "2024-01-03T22:54:53.255213Z",
     "iopub.status.busy": "2024-01-03T22:54:53.254486Z",
     "iopub.status.idle": "2024-01-03T22:54:53.282807Z",
     "shell.execute_reply": "2024-01-03T22:54:53.281301Z"
    },
    "papermill": {
     "duration": 0.048898,
     "end_time": "2024-01-03T22:54:53.285574",
     "exception": false,
     "start_time": "2024-01-03T22:54:53.236676",
     "status": "completed"
    },
    "tags": []
   },
   "outputs": [
    {
     "name": "stdout",
     "output_type": "stream",
     "text": [
      "<class 'pandas.core.frame.DataFrame'>\n",
      "RangeIndex: 1309 entries, 0 to 1308\n",
      "Data columns (total 12 columns):\n",
      " #   Column       Non-Null Count  Dtype  \n",
      "---  ------       --------------  -----  \n",
      " 0   PassengerId  1309 non-null   int64  \n",
      " 1   Survived     891 non-null    float64\n",
      " 2   Pclass       1309 non-null   int64  \n",
      " 3   Name         1309 non-null   object \n",
      " 4   Sex          1309 non-null   object \n",
      " 5   Age          1046 non-null   float64\n",
      " 6   SibSp        1309 non-null   int64  \n",
      " 7   Parch        1309 non-null   int64  \n",
      " 8   Ticket       1309 non-null   object \n",
      " 9   Fare         1308 non-null   float64\n",
      " 10  Cabin        295 non-null    object \n",
      " 11  Embarked     1307 non-null   object \n",
      "dtypes: float64(3), int64(4), object(5)\n",
      "memory usage: 122.8+ KB\n"
     ]
    }
   ],
   "source": [
    "# Воспорльзуемся .info() для проверки заполнение строк и сбора информации о типах признаков \n",
    "\n",
    "df.info()"
   ]
  },
  {
   "cell_type": "code",
   "execution_count": 6,
   "id": "5bda9e79",
   "metadata": {
    "execution": {
     "iopub.execute_input": "2024-01-03T22:54:53.320278Z",
     "iopub.status.busy": "2024-01-03T22:54:53.319837Z",
     "iopub.status.idle": "2024-01-03T22:54:53.462543Z",
     "shell.execute_reply": "2024-01-03T22:54:53.461441Z"
    },
    "papermill": {
     "duration": 0.16344,
     "end_time": "2024-01-03T22:54:53.465544",
     "exception": false,
     "start_time": "2024-01-03T22:54:53.302104",
     "status": "completed"
    },
    "tags": []
   },
   "outputs": [
    {
     "data": {
      "text/html": [
       "<style type=\"text/css\">\n",
       "#T_9140e_row0_col0, #T_9140e_row0_col1, #T_9140e_row0_col2, #T_9140e_row0_col3, #T_9140e_row0_col4, #T_9140e_row0_col5, #T_9140e_row0_col6, #T_9140e_row7_col0 {\n",
       "  background-color: #084081;\n",
       "  color: #f1f1f1;\n",
       "}\n",
       "#T_9140e_row1_col0, #T_9140e_row5_col0 {\n",
       "  background-color: #7accc4;\n",
       "  color: #000000;\n",
       "}\n",
       "#T_9140e_row1_col1, #T_9140e_row1_col2, #T_9140e_row1_col4, #T_9140e_row1_col5, #T_9140e_row2_col1, #T_9140e_row2_col2, #T_9140e_row2_col4, #T_9140e_row2_col5, #T_9140e_row3_col0, #T_9140e_row3_col1, #T_9140e_row3_col2, #T_9140e_row3_col3, #T_9140e_row3_col4, #T_9140e_row3_col5, #T_9140e_row3_col6, #T_9140e_row4_col1, #T_9140e_row4_col2, #T_9140e_row4_col4, #T_9140e_row4_col5, #T_9140e_row5_col1, #T_9140e_row5_col2, #T_9140e_row5_col4, #T_9140e_row5_col5, #T_9140e_row6_col1, #T_9140e_row6_col2, #T_9140e_row6_col4, #T_9140e_row6_col5, #T_9140e_row7_col1, #T_9140e_row7_col2 {\n",
       "  background-color: #f7fcf0;\n",
       "  color: #000000;\n",
       "}\n",
       "#T_9140e_row1_col3 {\n",
       "  background-color: #f2faeb;\n",
       "  color: #000000;\n",
       "}\n",
       "#T_9140e_row1_col6, #T_9140e_row5_col3, #T_9140e_row6_col6 {\n",
       "  background-color: #f3faec;\n",
       "  color: #000000;\n",
       "}\n",
       "#T_9140e_row2_col0 {\n",
       "  background-color: #c2e7c0;\n",
       "  color: #000000;\n",
       "}\n",
       "#T_9140e_row2_col3 {\n",
       "  background-color: #f5fbee;\n",
       "  color: #000000;\n",
       "}\n",
       "#T_9140e_row2_col6 {\n",
       "  background-color: #f0f9e9;\n",
       "  color: #000000;\n",
       "}\n",
       "#T_9140e_row4_col0 {\n",
       "  background-color: #ccebc5;\n",
       "  color: #000000;\n",
       "}\n",
       "#T_9140e_row4_col3 {\n",
       "  background-color: #f3fbed;\n",
       "  color: #000000;\n",
       "}\n",
       "#T_9140e_row4_col6, #T_9140e_row7_col4, #T_9140e_row7_col5 {\n",
       "  background-color: #f6fcef;\n",
       "  color: #000000;\n",
       "}\n",
       "#T_9140e_row5_col6 {\n",
       "  background-color: #f6fbef;\n",
       "  color: #000000;\n",
       "}\n",
       "#T_9140e_row6_col0 {\n",
       "  background-color: #2a8bbe;\n",
       "  color: #f1f1f1;\n",
       "}\n",
       "#T_9140e_row6_col3 {\n",
       "  background-color: #f1f9ea;\n",
       "  color: #000000;\n",
       "}\n",
       "#T_9140e_row7_col3 {\n",
       "  background-color: #e9f7e3;\n",
       "  color: #000000;\n",
       "}\n",
       "#T_9140e_row7_col6 {\n",
       "  background-color: #a2dbb7;\n",
       "  color: #000000;\n",
       "}\n",
       "</style>\n",
       "<table id=\"T_9140e\">\n",
       "  <thead>\n",
       "    <tr>\n",
       "      <th class=\"blank level0\" >&nbsp;</th>\n",
       "      <th id=\"T_9140e_level0_col0\" class=\"col_heading level0 col0\" >PassengerId</th>\n",
       "      <th id=\"T_9140e_level0_col1\" class=\"col_heading level0 col1\" >Survived</th>\n",
       "      <th id=\"T_9140e_level0_col2\" class=\"col_heading level0 col2\" >Pclass</th>\n",
       "      <th id=\"T_9140e_level0_col3\" class=\"col_heading level0 col3\" >Age</th>\n",
       "      <th id=\"T_9140e_level0_col4\" class=\"col_heading level0 col4\" >SibSp</th>\n",
       "      <th id=\"T_9140e_level0_col5\" class=\"col_heading level0 col5\" >Parch</th>\n",
       "      <th id=\"T_9140e_level0_col6\" class=\"col_heading level0 col6\" >Fare</th>\n",
       "    </tr>\n",
       "  </thead>\n",
       "  <tbody>\n",
       "    <tr>\n",
       "      <th id=\"T_9140e_level0_row0\" class=\"row_heading level0 row0\" >count</th>\n",
       "      <td id=\"T_9140e_row0_col0\" class=\"data row0 col0\" >1309.000000</td>\n",
       "      <td id=\"T_9140e_row0_col1\" class=\"data row0 col1\" >891.000000</td>\n",
       "      <td id=\"T_9140e_row0_col2\" class=\"data row0 col2\" >1309.000000</td>\n",
       "      <td id=\"T_9140e_row0_col3\" class=\"data row0 col3\" >1046.000000</td>\n",
       "      <td id=\"T_9140e_row0_col4\" class=\"data row0 col4\" >1309.000000</td>\n",
       "      <td id=\"T_9140e_row0_col5\" class=\"data row0 col5\" >1309.000000</td>\n",
       "      <td id=\"T_9140e_row0_col6\" class=\"data row0 col6\" >1308.000000</td>\n",
       "    </tr>\n",
       "    <tr>\n",
       "      <th id=\"T_9140e_level0_row1\" class=\"row_heading level0 row1\" >mean</th>\n",
       "      <td id=\"T_9140e_row1_col0\" class=\"data row1 col0\" >655.000000</td>\n",
       "      <td id=\"T_9140e_row1_col1\" class=\"data row1 col1\" >0.383838</td>\n",
       "      <td id=\"T_9140e_row1_col2\" class=\"data row1 col2\" >2.294882</td>\n",
       "      <td id=\"T_9140e_row1_col3\" class=\"data row1 col3\" >29.881138</td>\n",
       "      <td id=\"T_9140e_row1_col4\" class=\"data row1 col4\" >0.498854</td>\n",
       "      <td id=\"T_9140e_row1_col5\" class=\"data row1 col5\" >0.385027</td>\n",
       "      <td id=\"T_9140e_row1_col6\" class=\"data row1 col6\" >33.295479</td>\n",
       "    </tr>\n",
       "    <tr>\n",
       "      <th id=\"T_9140e_level0_row2\" class=\"row_heading level0 row2\" >std</th>\n",
       "      <td id=\"T_9140e_row2_col0\" class=\"data row2 col0\" >378.020061</td>\n",
       "      <td id=\"T_9140e_row2_col1\" class=\"data row2 col1\" >0.486592</td>\n",
       "      <td id=\"T_9140e_row2_col2\" class=\"data row2 col2\" >0.837836</td>\n",
       "      <td id=\"T_9140e_row2_col3\" class=\"data row2 col3\" >14.413493</td>\n",
       "      <td id=\"T_9140e_row2_col4\" class=\"data row2 col4\" >1.041658</td>\n",
       "      <td id=\"T_9140e_row2_col5\" class=\"data row2 col5\" >0.865560</td>\n",
       "      <td id=\"T_9140e_row2_col6\" class=\"data row2 col6\" >51.758668</td>\n",
       "    </tr>\n",
       "    <tr>\n",
       "      <th id=\"T_9140e_level0_row3\" class=\"row_heading level0 row3\" >min</th>\n",
       "      <td id=\"T_9140e_row3_col0\" class=\"data row3 col0\" >1.000000</td>\n",
       "      <td id=\"T_9140e_row3_col1\" class=\"data row3 col1\" >0.000000</td>\n",
       "      <td id=\"T_9140e_row3_col2\" class=\"data row3 col2\" >1.000000</td>\n",
       "      <td id=\"T_9140e_row3_col3\" class=\"data row3 col3\" >0.170000</td>\n",
       "      <td id=\"T_9140e_row3_col4\" class=\"data row3 col4\" >0.000000</td>\n",
       "      <td id=\"T_9140e_row3_col5\" class=\"data row3 col5\" >0.000000</td>\n",
       "      <td id=\"T_9140e_row3_col6\" class=\"data row3 col6\" >0.000000</td>\n",
       "    </tr>\n",
       "    <tr>\n",
       "      <th id=\"T_9140e_level0_row4\" class=\"row_heading level0 row4\" >25%</th>\n",
       "      <td id=\"T_9140e_row4_col0\" class=\"data row4 col0\" >328.000000</td>\n",
       "      <td id=\"T_9140e_row4_col1\" class=\"data row4 col1\" >0.000000</td>\n",
       "      <td id=\"T_9140e_row4_col2\" class=\"data row4 col2\" >2.000000</td>\n",
       "      <td id=\"T_9140e_row4_col3\" class=\"data row4 col3\" >21.000000</td>\n",
       "      <td id=\"T_9140e_row4_col4\" class=\"data row4 col4\" >0.000000</td>\n",
       "      <td id=\"T_9140e_row4_col5\" class=\"data row4 col5\" >0.000000</td>\n",
       "      <td id=\"T_9140e_row4_col6\" class=\"data row4 col6\" >7.895800</td>\n",
       "    </tr>\n",
       "    <tr>\n",
       "      <th id=\"T_9140e_level0_row5\" class=\"row_heading level0 row5\" >50%</th>\n",
       "      <td id=\"T_9140e_row5_col0\" class=\"data row5 col0\" >655.000000</td>\n",
       "      <td id=\"T_9140e_row5_col1\" class=\"data row5 col1\" >0.000000</td>\n",
       "      <td id=\"T_9140e_row5_col2\" class=\"data row5 col2\" >3.000000</td>\n",
       "      <td id=\"T_9140e_row5_col3\" class=\"data row5 col3\" >28.000000</td>\n",
       "      <td id=\"T_9140e_row5_col4\" class=\"data row5 col4\" >0.000000</td>\n",
       "      <td id=\"T_9140e_row5_col5\" class=\"data row5 col5\" >0.000000</td>\n",
       "      <td id=\"T_9140e_row5_col6\" class=\"data row5 col6\" >14.454200</td>\n",
       "    </tr>\n",
       "    <tr>\n",
       "      <th id=\"T_9140e_level0_row6\" class=\"row_heading level0 row6\" >75%</th>\n",
       "      <td id=\"T_9140e_row6_col0\" class=\"data row6 col0\" >982.000000</td>\n",
       "      <td id=\"T_9140e_row6_col1\" class=\"data row6 col1\" >1.000000</td>\n",
       "      <td id=\"T_9140e_row6_col2\" class=\"data row6 col2\" >3.000000</td>\n",
       "      <td id=\"T_9140e_row6_col3\" class=\"data row6 col3\" >39.000000</td>\n",
       "      <td id=\"T_9140e_row6_col4\" class=\"data row6 col4\" >1.000000</td>\n",
       "      <td id=\"T_9140e_row6_col5\" class=\"data row6 col5\" >0.000000</td>\n",
       "      <td id=\"T_9140e_row6_col6\" class=\"data row6 col6\" >31.275000</td>\n",
       "    </tr>\n",
       "    <tr>\n",
       "      <th id=\"T_9140e_level0_row7\" class=\"row_heading level0 row7\" >max</th>\n",
       "      <td id=\"T_9140e_row7_col0\" class=\"data row7 col0\" >1309.000000</td>\n",
       "      <td id=\"T_9140e_row7_col1\" class=\"data row7 col1\" >1.000000</td>\n",
       "      <td id=\"T_9140e_row7_col2\" class=\"data row7 col2\" >3.000000</td>\n",
       "      <td id=\"T_9140e_row7_col3\" class=\"data row7 col3\" >80.000000</td>\n",
       "      <td id=\"T_9140e_row7_col4\" class=\"data row7 col4\" >8.000000</td>\n",
       "      <td id=\"T_9140e_row7_col5\" class=\"data row7 col5\" >9.000000</td>\n",
       "      <td id=\"T_9140e_row7_col6\" class=\"data row7 col6\" >512.329200</td>\n",
       "    </tr>\n",
       "  </tbody>\n",
       "</table>\n"
      ],
      "text/plain": [
       "<pandas.io.formats.style.Styler at 0x785c9578fac0>"
      ]
     },
     "execution_count": 6,
     "metadata": {},
     "output_type": "execute_result"
    }
   ],
   "source": [
    "# Посмотрим на числовые параметры переменных для этого воспользуемся .describe\n",
    "\n",
    "df.describe().style.background_gradient(cmap ='GnBu')"
   ]
  },
  {
   "cell_type": "code",
   "execution_count": 7,
   "id": "e93b7450",
   "metadata": {
    "execution": {
     "iopub.execute_input": "2024-01-03T22:54:53.502344Z",
     "iopub.status.busy": "2024-01-03T22:54:53.501650Z",
     "iopub.status.idle": "2024-01-03T22:54:53.512949Z",
     "shell.execute_reply": "2024-01-03T22:54:53.511846Z"
    },
    "papermill": {
     "duration": 0.032547,
     "end_time": "2024-01-03T22:54:53.515136",
     "exception": false,
     "start_time": "2024-01-03T22:54:53.482589",
     "status": "completed"
    },
    "tags": []
   },
   "outputs": [
    {
     "data": {
      "text/plain": [
       "PassengerId       0\n",
       "Survived        418\n",
       "Pclass            0\n",
       "Name              0\n",
       "Sex               0\n",
       "Age             263\n",
       "SibSp             0\n",
       "Parch             0\n",
       "Ticket            0\n",
       "Fare              1\n",
       "Cabin          1014\n",
       "Embarked          2\n",
       "dtype: int64"
      ]
     },
     "execution_count": 7,
     "metadata": {},
     "output_type": "execute_result"
    }
   ],
   "source": [
    "# Посмотрим на колличество пропущенных значений\n",
    "\n",
    "df.isnull().sum()"
   ]
  },
  {
   "cell_type": "code",
   "execution_count": 8,
   "id": "2ecdb288",
   "metadata": {
    "execution": {
     "iopub.execute_input": "2024-01-03T22:54:53.549892Z",
     "iopub.status.busy": "2024-01-03T22:54:53.549415Z",
     "iopub.status.idle": "2024-01-03T22:54:54.238837Z",
     "shell.execute_reply": "2024-01-03T22:54:54.237550Z"
    },
    "papermill": {
     "duration": 0.709897,
     "end_time": "2024-01-03T22:54:54.241306",
     "exception": false,
     "start_time": "2024-01-03T22:54:53.531409",
     "status": "completed"
    },
    "tags": []
   },
   "outputs": [
    {
     "data": {
      "image/png": "[encoded data removed]",
      "text/plain": [
       "<Figure size 1200x600 with 1 Axes>"
      ]
     },
     "metadata": {},
     "output_type": "display_data"
    }
   ],
   "source": [
    "# С помощью тепловой карты построим график пропущенных значений\n",
    "\n",
    "df.isnull().sum()\n",
    "plt.figure(figsize = (12,6))\n",
    "sns.heatmap(df.isnull(), cbar = False, cmap = 'inferno').set_title(\"Missing values heatmap\");"
   ]
  },
  {
   "cell_type": "code",
   "execution_count": 9,
   "id": "bb113690",
   "metadata": {
    "execution": {
     "iopub.execute_input": "2024-01-03T22:54:54.278399Z",
     "iopub.status.busy": "2024-01-03T22:54:54.277894Z",
     "iopub.status.idle": "2024-01-03T22:54:54.321112Z",
     "shell.execute_reply": "2024-01-03T22:54:54.319809Z"
    },
    "papermill": {
     "duration": 0.065528,
     "end_time": "2024-01-03T22:54:54.324143",
     "exception": false,
     "start_time": "2024-01-03T22:54:54.258615",
     "status": "completed"
    },
    "tags": []
   },
   "outputs": [
    {
     "data": {
      "text/html": [
       "<style type=\"text/css\">\n",
       "#T_c6a63_row0_col1, #T_c6a63_row0_col2, #T_c6a63_row1_col3, #T_c6a63_row2_col1, #T_c6a63_row2_col2, #T_c6a63_row2_col3, #T_c6a63_row3_col1, #T_c6a63_row3_col2, #T_c6a63_row4_col1, #T_c6a63_row4_col2, #T_c6a63_row4_col3, #T_c6a63_row6_col1, #T_c6a63_row6_col2, #T_c6a63_row6_col3, #T_c6a63_row7_col1, #T_c6a63_row7_col2, #T_c6a63_row8_col1, #T_c6a63_row8_col2, #T_c6a63_row9_col1, #T_c6a63_row9_col2, #T_c6a63_row10_col4, #T_c6a63_row11_col1, #T_c6a63_row11_col2, #T_c6a63_row11_col3 {\n",
       "  background-color: #f7fbff;\n",
       "  color: #000000;\n",
       "}\n",
       "#T_c6a63_row0_col3, #T_c6a63_row0_col4, #T_c6a63_row2_col4, #T_c6a63_row3_col3, #T_c6a63_row3_col4, #T_c6a63_row4_col4, #T_c6a63_row6_col4, #T_c6a63_row7_col4, #T_c6a63_row8_col4, #T_c6a63_row9_col4, #T_c6a63_row10_col1, #T_c6a63_row10_col2, #T_c6a63_row11_col4 {\n",
       "  background-color: #08306b;\n",
       "  color: #f1f1f1;\n",
       "}\n",
       "#T_c6a63_row1_col1, #T_c6a63_row1_col2 {\n",
       "  background-color: #8fc2de;\n",
       "  color: #000000;\n",
       "}\n",
       "#T_c6a63_row1_col4 {\n",
       "  background-color: #4e9acb;\n",
       "  color: #f1f1f1;\n",
       "}\n",
       "#T_c6a63_row5_col1, #T_c6a63_row5_col2 {\n",
       "  background-color: #c3daee;\n",
       "  color: #000000;\n",
       "}\n",
       "#T_c6a63_row5_col3 {\n",
       "  background-color: #e9f2fa;\n",
       "  color: #000000;\n",
       "}\n",
       "#T_c6a63_row5_col4 {\n",
       "  background-color: #2373b6;\n",
       "  color: #f1f1f1;\n",
       "}\n",
       "#T_c6a63_row7_col3 {\n",
       "  background-color: #f6faff;\n",
       "  color: #000000;\n",
       "}\n",
       "#T_c6a63_row8_col3 {\n",
       "  background-color: #2c7cba;\n",
       "  color: #f1f1f1;\n",
       "}\n",
       "#T_c6a63_row9_col3 {\n",
       "  background-color: #cde0f1;\n",
       "  color: #000000;\n",
       "}\n",
       "#T_c6a63_row10_col3 {\n",
       "  background-color: #dbe9f6;\n",
       "  color: #000000;\n",
       "}\n",
       "</style>\n",
       "<table id=\"T_c6a63\">\n",
       "  <thead>\n",
       "    <tr>\n",
       "      <th class=\"blank level0\" >&nbsp;</th>\n",
       "      <th id=\"T_c6a63_level0_col0\" class=\"col_heading level0 col0\" >dtypes</th>\n",
       "      <th id=\"T_c6a63_level0_col1\" class=\"col_heading level0 col1\" >missing#</th>\n",
       "      <th id=\"T_c6a63_level0_col2\" class=\"col_heading level0 col2\" >missing%</th>\n",
       "      <th id=\"T_c6a63_level0_col3\" class=\"col_heading level0 col3\" >uniques</th>\n",
       "      <th id=\"T_c6a63_level0_col4\" class=\"col_heading level0 col4\" >count</th>\n",
       "    </tr>\n",
       "  </thead>\n",
       "  <tbody>\n",
       "    <tr>\n",
       "      <th id=\"T_c6a63_level0_row0\" class=\"row_heading level0 row0\" >PassengerId</th>\n",
       "      <td id=\"T_c6a63_row0_col0\" class=\"data row0 col0\" >int64</td>\n",
       "      <td id=\"T_c6a63_row0_col1\" class=\"data row0 col1\" >0</td>\n",
       "      <td id=\"T_c6a63_row0_col2\" class=\"data row0 col2\" >0.000000</td>\n",
       "      <td id=\"T_c6a63_row0_col3\" class=\"data row0 col3\" >1309</td>\n",
       "      <td id=\"T_c6a63_row0_col4\" class=\"data row0 col4\" >1309</td>\n",
       "    </tr>\n",
       "    <tr>\n",
       "      <th id=\"T_c6a63_level0_row1\" class=\"row_heading level0 row1\" >Survived</th>\n",
       "      <td id=\"T_c6a63_row1_col0\" class=\"data row1 col0\" >float64</td>\n",
       "      <td id=\"T_c6a63_row1_col1\" class=\"data row1 col1\" >418</td>\n",
       "      <td id=\"T_c6a63_row1_col2\" class=\"data row1 col2\" >31.932773</td>\n",
       "      <td id=\"T_c6a63_row1_col3\" class=\"data row1 col3\" >2</td>\n",
       "      <td id=\"T_c6a63_row1_col4\" class=\"data row1 col4\" >891</td>\n",
       "    </tr>\n",
       "    <tr>\n",
       "      <th id=\"T_c6a63_level0_row2\" class=\"row_heading level0 row2\" >Pclass</th>\n",
       "      <td id=\"T_c6a63_row2_col0\" class=\"data row2 col0\" >int64</td>\n",
       "      <td id=\"T_c6a63_row2_col1\" class=\"data row2 col1\" >0</td>\n",
       "      <td id=\"T_c6a63_row2_col2\" class=\"data row2 col2\" >0.000000</td>\n",
       "      <td id=\"T_c6a63_row2_col3\" class=\"data row2 col3\" >3</td>\n",
       "      <td id=\"T_c6a63_row2_col4\" class=\"data row2 col4\" >1309</td>\n",
       "    </tr>\n",
       "    <tr>\n",
       "      <th id=\"T_c6a63_level0_row3\" class=\"row_heading level0 row3\" >Name</th>\n",
       "      <td id=\"T_c6a63_row3_col0\" class=\"data row3 col0\" >object</td>\n",
       "      <td id=\"T_c6a63_row3_col1\" class=\"data row3 col1\" >0</td>\n",
       "      <td id=\"T_c6a63_row3_col2\" class=\"data row3 col2\" >0.000000</td>\n",
       "      <td id=\"T_c6a63_row3_col3\" class=\"data row3 col3\" >1307</td>\n",
       "      <td id=\"T_c6a63_row3_col4\" class=\"data row3 col4\" >1309</td>\n",
       "    </tr>\n",
       "    <tr>\n",
       "      <th id=\"T_c6a63_level0_row4\" class=\"row_heading level0 row4\" >Sex</th>\n",
       "      <td id=\"T_c6a63_row4_col0\" class=\"data row4 col0\" >object</td>\n",
       "      <td id=\"T_c6a63_row4_col1\" class=\"data row4 col1\" >0</td>\n",
       "      <td id=\"T_c6a63_row4_col2\" class=\"data row4 col2\" >0.000000</td>\n",
       "      <td id=\"T_c6a63_row4_col3\" class=\"data row4 col3\" >2</td>\n",
       "      <td id=\"T_c6a63_row4_col4\" class=\"data row4 col4\" >1309</td>\n",
       "    </tr>\n",
       "    <tr>\n",
       "      <th id=\"T_c6a63_level0_row5\" class=\"row_heading level0 row5\" >Age</th>\n",
       "      <td id=\"T_c6a63_row5_col0\" class=\"data row5 col0\" >float64</td>\n",
       "      <td id=\"T_c6a63_row5_col1\" class=\"data row5 col1\" >263</td>\n",
       "      <td id=\"T_c6a63_row5_col2\" class=\"data row5 col2\" >20.091673</td>\n",
       "      <td id=\"T_c6a63_row5_col3\" class=\"data row5 col3\" >98</td>\n",
       "      <td id=\"T_c6a63_row5_col4\" class=\"data row5 col4\" >1046</td>\n",
       "    </tr>\n",
       "    <tr>\n",
       "      <th id=\"T_c6a63_level0_row6\" class=\"row_heading level0 row6\" >SibSp</th>\n",
       "      <td id=\"T_c6a63_row6_col0\" class=\"data row6 col0\" >int64</td>\n",
       "      <td id=\"T_c6a63_row6_col1\" class=\"data row6 col1\" >0</td>\n",
       "      <td id=\"T_c6a63_row6_col2\" class=\"data row6 col2\" >0.000000</td>\n",
       "      <td id=\"T_c6a63_row6_col3\" class=\"data row6 col3\" >7</td>\n",
       "      <td id=\"T_c6a63_row6_col4\" class=\"data row6 col4\" >1309</td>\n",
       "    </tr>\n",
       "    <tr>\n",
       "      <th id=\"T_c6a63_level0_row7\" class=\"row_heading level0 row7\" >Parch</th>\n",
       "      <td id=\"T_c6a63_row7_col0\" class=\"data row7 col0\" >int64</td>\n",
       "      <td id=\"T_c6a63_row7_col1\" class=\"data row7 col1\" >0</td>\n",
       "      <td id=\"T_c6a63_row7_col2\" class=\"data row7 col2\" >0.000000</td>\n",
       "      <td id=\"T_c6a63_row7_col3\" class=\"data row7 col3\" >8</td>\n",
       "      <td id=\"T_c6a63_row7_col4\" class=\"data row7 col4\" >1309</td>\n",
       "    </tr>\n",
       "    <tr>\n",
       "      <th id=\"T_c6a63_level0_row8\" class=\"row_heading level0 row8\" >Ticket</th>\n",
       "      <td id=\"T_c6a63_row8_col0\" class=\"data row8 col0\" >object</td>\n",
       "      <td id=\"T_c6a63_row8_col1\" class=\"data row8 col1\" >0</td>\n",
       "      <td id=\"T_c6a63_row8_col2\" class=\"data row8 col2\" >0.000000</td>\n",
       "      <td id=\"T_c6a63_row8_col3\" class=\"data row8 col3\" >929</td>\n",
       "      <td id=\"T_c6a63_row8_col4\" class=\"data row8 col4\" >1309</td>\n",
       "    </tr>\n",
       "    <tr>\n",
       "      <th id=\"T_c6a63_level0_row9\" class=\"row_heading level0 row9\" >Fare</th>\n",
       "      <td id=\"T_c6a63_row9_col0\" class=\"data row9 col0\" >float64</td>\n",
       "      <td id=\"T_c6a63_row9_col1\" class=\"data row9 col1\" >1</td>\n",
       "      <td id=\"T_c6a63_row9_col2\" class=\"data row9 col2\" >0.076394</td>\n",
       "      <td id=\"T_c6a63_row9_col3\" class=\"data row9 col3\" >281</td>\n",
       "      <td id=\"T_c6a63_row9_col4\" class=\"data row9 col4\" >1308</td>\n",
       "    </tr>\n",
       "    <tr>\n",
       "      <th id=\"T_c6a63_level0_row10\" class=\"row_heading level0 row10\" >Cabin</th>\n",
       "      <td id=\"T_c6a63_row10_col0\" class=\"data row10 col0\" >object</td>\n",
       "      <td id=\"T_c6a63_row10_col1\" class=\"data row10 col1\" >1014</td>\n",
       "      <td id=\"T_c6a63_row10_col2\" class=\"data row10 col2\" >77.463713</td>\n",
       "      <td id=\"T_c6a63_row10_col3\" class=\"data row10 col3\" >186</td>\n",
       "      <td id=\"T_c6a63_row10_col4\" class=\"data row10 col4\" >295</td>\n",
       "    </tr>\n",
       "    <tr>\n",
       "      <th id=\"T_c6a63_level0_row11\" class=\"row_heading level0 row11\" >Embarked</th>\n",
       "      <td id=\"T_c6a63_row11_col0\" class=\"data row11 col0\" >object</td>\n",
       "      <td id=\"T_c6a63_row11_col1\" class=\"data row11 col1\" >2</td>\n",
       "      <td id=\"T_c6a63_row11_col2\" class=\"data row11 col2\" >0.152788</td>\n",
       "      <td id=\"T_c6a63_row11_col3\" class=\"data row11 col3\" >3</td>\n",
       "      <td id=\"T_c6a63_row11_col4\" class=\"data row11 col4\" >1307</td>\n",
       "    </tr>\n",
       "  </tbody>\n",
       "</table>\n"
      ],
      "text/plain": [
       "<pandas.io.formats.style.Styler at 0x785c8746cac0>"
      ]
     },
     "execution_count": 9,
     "metadata": {},
     "output_type": "execute_result"
    }
   ],
   "source": [
    "# Тогда можно подытожить, что для всего датасета мы имеем\n",
    "\n",
    "def summary(df):\n",
    "    sum = pd.DataFrame(df.dtypes, columns=['dtypes'])\n",
    "    sum['missing#'] = df.isna().sum()\n",
    "    sum['missing%'] = (df.isna().sum())/len(df) * 100\n",
    "    sum['uniques'] = df.nunique().values\n",
    "    sum['count'] = df.count().values\n",
    "    return sum\n",
    "summary(df).style.background_gradient(cmap='Blues')"
   ]
  },
  {
   "cell_type": "code",
   "execution_count": 10,
   "id": "9a530f7d",
   "metadata": {
    "execution": {
     "iopub.execute_input": "2024-01-03T22:54:54.363212Z",
     "iopub.status.busy": "2024-01-03T22:54:54.362717Z",
     "iopub.status.idle": "2024-01-03T22:54:54.398771Z",
     "shell.execute_reply": "2024-01-03T22:54:54.397772Z"
    },
    "papermill": {
     "duration": 0.059586,
     "end_time": "2024-01-03T22:54:54.401569",
     "exception": false,
     "start_time": "2024-01-03T22:54:54.341983",
     "status": "completed"
    },
    "tags": []
   },
   "outputs": [
    {
     "data": {
      "text/html": [
       "<style type=\"text/css\">\n",
       "#T_da651_row0_col1, #T_da651_row0_col2, #T_da651_row1_col1, #T_da651_row1_col2, #T_da651_row1_col3, #T_da651_row2_col1, #T_da651_row2_col2, #T_da651_row2_col3, #T_da651_row3_col1, #T_da651_row3_col2, #T_da651_row4_col1, #T_da651_row4_col2, #T_da651_row4_col3, #T_da651_row6_col1, #T_da651_row6_col2, #T_da651_row7_col1, #T_da651_row7_col2, #T_da651_row8_col1, #T_da651_row8_col2, #T_da651_row9_col1, #T_da651_row9_col2, #T_da651_row10_col4, #T_da651_row11_col1, #T_da651_row11_col2, #T_da651_row11_col3 {\n",
       "  background-color: #f7fbff;\n",
       "  color: #000000;\n",
       "}\n",
       "#T_da651_row0_col3, #T_da651_row0_col4, #T_da651_row1_col4, #T_da651_row2_col4, #T_da651_row3_col3, #T_da651_row3_col4, #T_da651_row4_col4, #T_da651_row6_col4, #T_da651_row7_col4, #T_da651_row8_col4, #T_da651_row9_col4, #T_da651_row10_col1, #T_da651_row10_col2, #T_da651_row11_col4 {\n",
       "  background-color: #08306b;\n",
       "  color: #f1f1f1;\n",
       "}\n",
       "#T_da651_row5_col1, #T_da651_row5_col2 {\n",
       "  background-color: #c4daee;\n",
       "  color: #000000;\n",
       "}\n",
       "#T_da651_row5_col3 {\n",
       "  background-color: #e4eff9;\n",
       "  color: #000000;\n",
       "}\n",
       "#T_da651_row5_col4 {\n",
       "  background-color: #2272b6;\n",
       "  color: #f1f1f1;\n",
       "}\n",
       "#T_da651_row6_col3, #T_da651_row7_col3 {\n",
       "  background-color: #f6faff;\n",
       "  color: #000000;\n",
       "}\n",
       "#T_da651_row8_col3 {\n",
       "  background-color: #1e6db2;\n",
       "  color: #f1f1f1;\n",
       "}\n",
       "#T_da651_row9_col3 {\n",
       "  background-color: #bed8ec;\n",
       "  color: #000000;\n",
       "}\n",
       "#T_da651_row10_col3 {\n",
       "  background-color: #d7e6f5;\n",
       "  color: #000000;\n",
       "}\n",
       "</style>\n",
       "<table id=\"T_da651\">\n",
       "  <thead>\n",
       "    <tr>\n",
       "      <th class=\"blank level0\" >&nbsp;</th>\n",
       "      <th id=\"T_da651_level0_col0\" class=\"col_heading level0 col0\" >dtypes</th>\n",
       "      <th id=\"T_da651_level0_col1\" class=\"col_heading level0 col1\" >missing#</th>\n",
       "      <th id=\"T_da651_level0_col2\" class=\"col_heading level0 col2\" >missing%</th>\n",
       "      <th id=\"T_da651_level0_col3\" class=\"col_heading level0 col3\" >uniques</th>\n",
       "      <th id=\"T_da651_level0_col4\" class=\"col_heading level0 col4\" >count</th>\n",
       "    </tr>\n",
       "  </thead>\n",
       "  <tbody>\n",
       "    <tr>\n",
       "      <th id=\"T_da651_level0_row0\" class=\"row_heading level0 row0\" >PassengerId</th>\n",
       "      <td id=\"T_da651_row0_col0\" class=\"data row0 col0\" >int64</td>\n",
       "      <td id=\"T_da651_row0_col1\" class=\"data row0 col1\" >0</td>\n",
       "      <td id=\"T_da651_row0_col2\" class=\"data row0 col2\" >0.000000</td>\n",
       "      <td id=\"T_da651_row0_col3\" class=\"data row0 col3\" >891</td>\n",
       "      <td id=\"T_da651_row0_col4\" class=\"data row0 col4\" >891</td>\n",
       "    </tr>\n",
       "    <tr>\n",
       "      <th id=\"T_da651_level0_row1\" class=\"row_heading level0 row1\" >Survived</th>\n",
       "      <td id=\"T_da651_row1_col0\" class=\"data row1 col0\" >int64</td>\n",
       "      <td id=\"T_da651_row1_col1\" class=\"data row1 col1\" >0</td>\n",
       "      <td id=\"T_da651_row1_col2\" class=\"data row1 col2\" >0.000000</td>\n",
       "      <td id=\"T_da651_row1_col3\" class=\"data row1 col3\" >2</td>\n",
       "      <td id=\"T_da651_row1_col4\" class=\"data row1 col4\" >891</td>\n",
       "    </tr>\n",
       "    <tr>\n",
       "      <th id=\"T_da651_level0_row2\" class=\"row_heading level0 row2\" >Pclass</th>\n",
       "      <td id=\"T_da651_row2_col0\" class=\"data row2 col0\" >int64</td>\n",
       "      <td id=\"T_da651_row2_col1\" class=\"data row2 col1\" >0</td>\n",
       "      <td id=\"T_da651_row2_col2\" class=\"data row2 col2\" >0.000000</td>\n",
       "      <td id=\"T_da651_row2_col3\" class=\"data row2 col3\" >3</td>\n",
       "      <td id=\"T_da651_row2_col4\" class=\"data row2 col4\" >891</td>\n",
       "    </tr>\n",
       "    <tr>\n",
       "      <th id=\"T_da651_level0_row3\" class=\"row_heading level0 row3\" >Name</th>\n",
       "      <td id=\"T_da651_row3_col0\" class=\"data row3 col0\" >object</td>\n",
       "      <td id=\"T_da651_row3_col1\" class=\"data row3 col1\" >0</td>\n",
       "      <td id=\"T_da651_row3_col2\" class=\"data row3 col2\" >0.000000</td>\n",
       "      <td id=\"T_da651_row3_col3\" class=\"data row3 col3\" >891</td>\n",
       "      <td id=\"T_da651_row3_col4\" class=\"data row3 col4\" >891</td>\n",
       "    </tr>\n",
       "    <tr>\n",
       "      <th id=\"T_da651_level0_row4\" class=\"row_heading level0 row4\" >Sex</th>\n",
       "      <td id=\"T_da651_row4_col0\" class=\"data row4 col0\" >object</td>\n",
       "      <td id=\"T_da651_row4_col1\" class=\"data row4 col1\" >0</td>\n",
       "      <td id=\"T_da651_row4_col2\" class=\"data row4 col2\" >0.000000</td>\n",
       "      <td id=\"T_da651_row4_col3\" class=\"data row4 col3\" >2</td>\n",
       "      <td id=\"T_da651_row4_col4\" class=\"data row4 col4\" >891</td>\n",
       "    </tr>\n",
       "    <tr>\n",
       "      <th id=\"T_da651_level0_row5\" class=\"row_heading level0 row5\" >Age</th>\n",
       "      <td id=\"T_da651_row5_col0\" class=\"data row5 col0\" >float64</td>\n",
       "      <td id=\"T_da651_row5_col1\" class=\"data row5 col1\" >177</td>\n",
       "      <td id=\"T_da651_row5_col2\" class=\"data row5 col2\" >19.865320</td>\n",
       "      <td id=\"T_da651_row5_col3\" class=\"data row5 col3\" >88</td>\n",
       "      <td id=\"T_da651_row5_col4\" class=\"data row5 col4\" >714</td>\n",
       "    </tr>\n",
       "    <tr>\n",
       "      <th id=\"T_da651_level0_row6\" class=\"row_heading level0 row6\" >SibSp</th>\n",
       "      <td id=\"T_da651_row6_col0\" class=\"data row6 col0\" >int64</td>\n",
       "      <td id=\"T_da651_row6_col1\" class=\"data row6 col1\" >0</td>\n",
       "      <td id=\"T_da651_row6_col2\" class=\"data row6 col2\" >0.000000</td>\n",
       "      <td id=\"T_da651_row6_col3\" class=\"data row6 col3\" >7</td>\n",
       "      <td id=\"T_da651_row6_col4\" class=\"data row6 col4\" >891</td>\n",
       "    </tr>\n",
       "    <tr>\n",
       "      <th id=\"T_da651_level0_row7\" class=\"row_heading level0 row7\" >Parch</th>\n",
       "      <td id=\"T_da651_row7_col0\" class=\"data row7 col0\" >int64</td>\n",
       "      <td id=\"T_da651_row7_col1\" class=\"data row7 col1\" >0</td>\n",
       "      <td id=\"T_da651_row7_col2\" class=\"data row7 col2\" >0.000000</td>\n",
       "      <td id=\"T_da651_row7_col3\" class=\"data row7 col3\" >7</td>\n",
       "      <td id=\"T_da651_row7_col4\" class=\"data row7 col4\" >891</td>\n",
       "    </tr>\n",
       "    <tr>\n",
       "      <th id=\"T_da651_level0_row8\" class=\"row_heading level0 row8\" >Ticket</th>\n",
       "      <td id=\"T_da651_row8_col0\" class=\"data row8 col0\" >object</td>\n",
       "      <td id=\"T_da651_row8_col1\" class=\"data row8 col1\" >0</td>\n",
       "      <td id=\"T_da651_row8_col2\" class=\"data row8 col2\" >0.000000</td>\n",
       "      <td id=\"T_da651_row8_col3\" class=\"data row8 col3\" >681</td>\n",
       "      <td id=\"T_da651_row8_col4\" class=\"data row8 col4\" >891</td>\n",
       "    </tr>\n",
       "    <tr>\n",
       "      <th id=\"T_da651_level0_row9\" class=\"row_heading level0 row9\" >Fare</th>\n",
       "      <td id=\"T_da651_row9_col0\" class=\"data row9 col0\" >float64</td>\n",
       "      <td id=\"T_da651_row9_col1\" class=\"data row9 col1\" >0</td>\n",
       "      <td id=\"T_da651_row9_col2\" class=\"data row9 col2\" >0.000000</td>\n",
       "      <td id=\"T_da651_row9_col3\" class=\"data row9 col3\" >248</td>\n",
       "      <td id=\"T_da651_row9_col4\" class=\"data row9 col4\" >891</td>\n",
       "    </tr>\n",
       "    <tr>\n",
       "      <th id=\"T_da651_level0_row10\" class=\"row_heading level0 row10\" >Cabin</th>\n",
       "      <td id=\"T_da651_row10_col0\" class=\"data row10 col0\" >object</td>\n",
       "      <td id=\"T_da651_row10_col1\" class=\"data row10 col1\" >687</td>\n",
       "      <td id=\"T_da651_row10_col2\" class=\"data row10 col2\" >77.104377</td>\n",
       "      <td id=\"T_da651_row10_col3\" class=\"data row10 col3\" >147</td>\n",
       "      <td id=\"T_da651_row10_col4\" class=\"data row10 col4\" >204</td>\n",
       "    </tr>\n",
       "    <tr>\n",
       "      <th id=\"T_da651_level0_row11\" class=\"row_heading level0 row11\" >Embarked</th>\n",
       "      <td id=\"T_da651_row11_col0\" class=\"data row11 col0\" >object</td>\n",
       "      <td id=\"T_da651_row11_col1\" class=\"data row11 col1\" >2</td>\n",
       "      <td id=\"T_da651_row11_col2\" class=\"data row11 col2\" >0.224467</td>\n",
       "      <td id=\"T_da651_row11_col3\" class=\"data row11 col3\" >3</td>\n",
       "      <td id=\"T_da651_row11_col4\" class=\"data row11 col4\" >889</td>\n",
       "    </tr>\n",
       "  </tbody>\n",
       "</table>\n"
      ],
      "text/plain": [
       "<pandas.io.formats.style.Styler at 0x785c9578fb50>"
      ]
     },
     "execution_count": 10,
     "metadata": {},
     "output_type": "execute_result"
    }
   ],
   "source": [
    "# Для данных train\n",
    "\n",
    "summary(train).style.background_gradient(cmap='Blues')"
   ]
  },
  {
   "cell_type": "code",
   "execution_count": 11,
   "id": "d2707451",
   "metadata": {
    "execution": {
     "iopub.execute_input": "2024-01-03T22:54:54.441953Z",
     "iopub.status.busy": "2024-01-03T22:54:54.440726Z",
     "iopub.status.idle": "2024-01-03T22:54:54.472961Z",
     "shell.execute_reply": "2024-01-03T22:54:54.471634Z"
    },
    "papermill": {
     "duration": 0.055498,
     "end_time": "2024-01-03T22:54:54.476066",
     "exception": false,
     "start_time": "2024-01-03T22:54:54.420568",
     "status": "completed"
    },
    "tags": []
   },
   "outputs": [
    {
     "data": {
      "text/html": [
       "<style type=\"text/css\">\n",
       "#T_cf3ca_row0_col1, #T_cf3ca_row0_col2, #T_cf3ca_row1_col1, #T_cf3ca_row1_col2, #T_cf3ca_row1_col3, #T_cf3ca_row2_col1, #T_cf3ca_row2_col2, #T_cf3ca_row3_col1, #T_cf3ca_row3_col2, #T_cf3ca_row3_col3, #T_cf3ca_row5_col1, #T_cf3ca_row5_col2, #T_cf3ca_row6_col1, #T_cf3ca_row6_col2, #T_cf3ca_row7_col1, #T_cf3ca_row7_col2, #T_cf3ca_row8_col1, #T_cf3ca_row8_col2, #T_cf3ca_row9_col4, #T_cf3ca_row10_col1, #T_cf3ca_row10_col2, #T_cf3ca_row10_col3 {\n",
       "  background-color: #f7fbff;\n",
       "  color: #000000;\n",
       "}\n",
       "#T_cf3ca_row0_col3, #T_cf3ca_row0_col4, #T_cf3ca_row1_col4, #T_cf3ca_row2_col3, #T_cf3ca_row2_col4, #T_cf3ca_row3_col4, #T_cf3ca_row5_col4, #T_cf3ca_row6_col4, #T_cf3ca_row7_col4, #T_cf3ca_row8_col4, #T_cf3ca_row9_col1, #T_cf3ca_row9_col2, #T_cf3ca_row10_col4 {\n",
       "  background-color: #08306b;\n",
       "  color: #f1f1f1;\n",
       "}\n",
       "#T_cf3ca_row4_col1, #T_cf3ca_row4_col2 {\n",
       "  background-color: #c2d9ee;\n",
       "  color: #000000;\n",
       "}\n",
       "#T_cf3ca_row4_col3 {\n",
       "  background-color: #d3e3f3;\n",
       "  color: #000000;\n",
       "}\n",
       "#T_cf3ca_row4_col4 {\n",
       "  background-color: #2474b7;\n",
       "  color: #f1f1f1;\n",
       "}\n",
       "#T_cf3ca_row5_col3, #T_cf3ca_row6_col3 {\n",
       "  background-color: #f5f9fe;\n",
       "  color: #000000;\n",
       "}\n",
       "#T_cf3ca_row7_col3 {\n",
       "  background-color: #09529d;\n",
       "  color: #f1f1f1;\n",
       "}\n",
       "#T_cf3ca_row8_col3 {\n",
       "  background-color: #94c4df;\n",
       "  color: #000000;\n",
       "}\n",
       "#T_cf3ca_row9_col3 {\n",
       "  background-color: #d4e4f4;\n",
       "  color: #000000;\n",
       "}\n",
       "</style>\n",
       "<table id=\"T_cf3ca\">\n",
       "  <thead>\n",
       "    <tr>\n",
       "      <th class=\"blank level0\" >&nbsp;</th>\n",
       "      <th id=\"T_cf3ca_level0_col0\" class=\"col_heading level0 col0\" >dtypes</th>\n",
       "      <th id=\"T_cf3ca_level0_col1\" class=\"col_heading level0 col1\" >missing#</th>\n",
       "      <th id=\"T_cf3ca_level0_col2\" class=\"col_heading level0 col2\" >missing%</th>\n",
       "      <th id=\"T_cf3ca_level0_col3\" class=\"col_heading level0 col3\" >uniques</th>\n",
       "      <th id=\"T_cf3ca_level0_col4\" class=\"col_heading level0 col4\" >count</th>\n",
       "    </tr>\n",
       "  </thead>\n",
       "  <tbody>\n",
       "    <tr>\n",
       "      <th id=\"T_cf3ca_level0_row0\" class=\"row_heading level0 row0\" >PassengerId</th>\n",
       "      <td id=\"T_cf3ca_row0_col0\" class=\"data row0 col0\" >int64</td>\n",
       "      <td id=\"T_cf3ca_row0_col1\" class=\"data row0 col1\" >0</td>\n",
       "      <td id=\"T_cf3ca_row0_col2\" class=\"data row0 col2\" >0.000000</td>\n",
       "      <td id=\"T_cf3ca_row0_col3\" class=\"data row0 col3\" >418</td>\n",
       "      <td id=\"T_cf3ca_row0_col4\" class=\"data row0 col4\" >418</td>\n",
       "    </tr>\n",
       "    <tr>\n",
       "      <th id=\"T_cf3ca_level0_row1\" class=\"row_heading level0 row1\" >Pclass</th>\n",
       "      <td id=\"T_cf3ca_row1_col0\" class=\"data row1 col0\" >int64</td>\n",
       "      <td id=\"T_cf3ca_row1_col1\" class=\"data row1 col1\" >0</td>\n",
       "      <td id=\"T_cf3ca_row1_col2\" class=\"data row1 col2\" >0.000000</td>\n",
       "      <td id=\"T_cf3ca_row1_col3\" class=\"data row1 col3\" >3</td>\n",
       "      <td id=\"T_cf3ca_row1_col4\" class=\"data row1 col4\" >418</td>\n",
       "    </tr>\n",
       "    <tr>\n",
       "      <th id=\"T_cf3ca_level0_row2\" class=\"row_heading level0 row2\" >Name</th>\n",
       "      <td id=\"T_cf3ca_row2_col0\" class=\"data row2 col0\" >object</td>\n",
       "      <td id=\"T_cf3ca_row2_col1\" class=\"data row2 col1\" >0</td>\n",
       "      <td id=\"T_cf3ca_row2_col2\" class=\"data row2 col2\" >0.000000</td>\n",
       "      <td id=\"T_cf3ca_row2_col3\" class=\"data row2 col3\" >418</td>\n",
       "      <td id=\"T_cf3ca_row2_col4\" class=\"data row2 col4\" >418</td>\n",
       "    </tr>\n",
       "    <tr>\n",
       "      <th id=\"T_cf3ca_level0_row3\" class=\"row_heading level0 row3\" >Sex</th>\n",
       "      <td id=\"T_cf3ca_row3_col0\" class=\"data row3 col0\" >object</td>\n",
       "      <td id=\"T_cf3ca_row3_col1\" class=\"data row3 col1\" >0</td>\n",
       "      <td id=\"T_cf3ca_row3_col2\" class=\"data row3 col2\" >0.000000</td>\n",
       "      <td id=\"T_cf3ca_row3_col3\" class=\"data row3 col3\" >2</td>\n",
       "      <td id=\"T_cf3ca_row3_col4\" class=\"data row3 col4\" >418</td>\n",
       "    </tr>\n",
       "    <tr>\n",
       "      <th id=\"T_cf3ca_level0_row4\" class=\"row_heading level0 row4\" >Age</th>\n",
       "      <td id=\"T_cf3ca_row4_col0\" class=\"data row4 col0\" >float64</td>\n",
       "      <td id=\"T_cf3ca_row4_col1\" class=\"data row4 col1\" >86</td>\n",
       "      <td id=\"T_cf3ca_row4_col2\" class=\"data row4 col2\" >20.574163</td>\n",
       "      <td id=\"T_cf3ca_row4_col3\" class=\"data row4 col3\" >79</td>\n",
       "      <td id=\"T_cf3ca_row4_col4\" class=\"data row4 col4\" >332</td>\n",
       "    </tr>\n",
       "    <tr>\n",
       "      <th id=\"T_cf3ca_level0_row5\" class=\"row_heading level0 row5\" >SibSp</th>\n",
       "      <td id=\"T_cf3ca_row5_col0\" class=\"data row5 col0\" >int64</td>\n",
       "      <td id=\"T_cf3ca_row5_col1\" class=\"data row5 col1\" >0</td>\n",
       "      <td id=\"T_cf3ca_row5_col2\" class=\"data row5 col2\" >0.000000</td>\n",
       "      <td id=\"T_cf3ca_row5_col3\" class=\"data row5 col3\" >7</td>\n",
       "      <td id=\"T_cf3ca_row5_col4\" class=\"data row5 col4\" >418</td>\n",
       "    </tr>\n",
       "    <tr>\n",
       "      <th id=\"T_cf3ca_level0_row6\" class=\"row_heading level0 row6\" >Parch</th>\n",
       "      <td id=\"T_cf3ca_row6_col0\" class=\"data row6 col0\" >int64</td>\n",
       "      <td id=\"T_cf3ca_row6_col1\" class=\"data row6 col1\" >0</td>\n",
       "      <td id=\"T_cf3ca_row6_col2\" class=\"data row6 col2\" >0.000000</td>\n",
       "      <td id=\"T_cf3ca_row6_col3\" class=\"data row6 col3\" >8</td>\n",
       "      <td id=\"T_cf3ca_row6_col4\" class=\"data row6 col4\" >418</td>\n",
       "    </tr>\n",
       "    <tr>\n",
       "      <th id=\"T_cf3ca_level0_row7\" class=\"row_heading level0 row7\" >Ticket</th>\n",
       "      <td id=\"T_cf3ca_row7_col0\" class=\"data row7 col0\" >object</td>\n",
       "      <td id=\"T_cf3ca_row7_col1\" class=\"data row7 col1\" >0</td>\n",
       "      <td id=\"T_cf3ca_row7_col2\" class=\"data row7 col2\" >0.000000</td>\n",
       "      <td id=\"T_cf3ca_row7_col3\" class=\"data row7 col3\" >363</td>\n",
       "      <td id=\"T_cf3ca_row7_col4\" class=\"data row7 col4\" >418</td>\n",
       "    </tr>\n",
       "    <tr>\n",
       "      <th id=\"T_cf3ca_level0_row8\" class=\"row_heading level0 row8\" >Fare</th>\n",
       "      <td id=\"T_cf3ca_row8_col0\" class=\"data row8 col0\" >float64</td>\n",
       "      <td id=\"T_cf3ca_row8_col1\" class=\"data row8 col1\" >1</td>\n",
       "      <td id=\"T_cf3ca_row8_col2\" class=\"data row8 col2\" >0.239234</td>\n",
       "      <td id=\"T_cf3ca_row8_col3\" class=\"data row8 col3\" >169</td>\n",
       "      <td id=\"T_cf3ca_row8_col4\" class=\"data row8 col4\" >417</td>\n",
       "    </tr>\n",
       "    <tr>\n",
       "      <th id=\"T_cf3ca_level0_row9\" class=\"row_heading level0 row9\" >Cabin</th>\n",
       "      <td id=\"T_cf3ca_row9_col0\" class=\"data row9 col0\" >object</td>\n",
       "      <td id=\"T_cf3ca_row9_col1\" class=\"data row9 col1\" >327</td>\n",
       "      <td id=\"T_cf3ca_row9_col2\" class=\"data row9 col2\" >78.229665</td>\n",
       "      <td id=\"T_cf3ca_row9_col3\" class=\"data row9 col3\" >76</td>\n",
       "      <td id=\"T_cf3ca_row9_col4\" class=\"data row9 col4\" >91</td>\n",
       "    </tr>\n",
       "    <tr>\n",
       "      <th id=\"T_cf3ca_level0_row10\" class=\"row_heading level0 row10\" >Embarked</th>\n",
       "      <td id=\"T_cf3ca_row10_col0\" class=\"data row10 col0\" >object</td>\n",
       "      <td id=\"T_cf3ca_row10_col1\" class=\"data row10 col1\" >0</td>\n",
       "      <td id=\"T_cf3ca_row10_col2\" class=\"data row10 col2\" >0.000000</td>\n",
       "      <td id=\"T_cf3ca_row10_col3\" class=\"data row10 col3\" >3</td>\n",
       "      <td id=\"T_cf3ca_row10_col4\" class=\"data row10 col4\" >418</td>\n",
       "    </tr>\n",
       "  </tbody>\n",
       "</table>\n"
      ],
      "text/plain": [
       "<pandas.io.formats.style.Styler at 0x785c873e27a0>"
      ]
     },
     "execution_count": 11,
     "metadata": {},
     "output_type": "execute_result"
    }
   ],
   "source": [
    "# Для данных test\n",
    "\n",
    "summary(test).style.background_gradient(cmap='Blues')"
   ]
  },
  {
   "cell_type": "code",
   "execution_count": 12,
   "id": "e502871a",
   "metadata": {
    "execution": {
     "iopub.execute_input": "2024-01-03T22:54:54.591540Z",
     "iopub.status.busy": "2024-01-03T22:54:54.591031Z",
     "iopub.status.idle": "2024-01-03T22:54:54.885111Z",
     "shell.execute_reply": "2024-01-03T22:54:54.883718Z"
    },
    "papermill": {
     "duration": 0.393376,
     "end_time": "2024-01-03T22:54:54.888475",
     "exception": false,
     "start_time": "2024-01-03T22:54:54.495099",
     "status": "completed"
    },
    "tags": []
   },
   "outputs": [
    {
     "data": {
      "text/plain": [
       "<Axes: xlabel='Embarked', ylabel='count'>"
      ]
     },
     "execution_count": 12,
     "metadata": {},
     "output_type": "execute_result"
    },
    {
     "data": {
      "image/png": "[encoded data removed]",
      "text/plain": [
       "<Figure size 640x480 with 1 Axes>"
      ]
     },
     "metadata": {},
     "output_type": "display_data"
    }
   ],
   "source": [
    "#  Есть три возможных значения для Embarked -  Саутгемптон, Шербург и Куинстаун - эта переменная отвечает за порт посадки пасажиров\n",
    "\n",
    "sns.countplot(data=train, x='Embarked', hue='Survived')"
   ]
  },
  {
   "cell_type": "code",
   "execution_count": 13,
   "id": "cb2528fe",
   "metadata": {
    "execution": {
     "iopub.execute_input": "2024-01-03T22:54:54.937834Z",
     "iopub.status.busy": "2024-01-03T22:54:54.937224Z",
     "iopub.status.idle": "2024-01-03T22:54:54.968328Z",
     "shell.execute_reply": "2024-01-03T22:54:54.966358Z"
    },
    "papermill": {
     "duration": 0.063757,
     "end_time": "2024-01-03T22:54:54.971748",
     "exception": false,
     "start_time": "2024-01-03T22:54:54.907991",
     "status": "completed"
    },
    "tags": []
   },
   "outputs": [],
   "source": [
    "# Поработаем с пропущенными значениями\n",
    "\n",
    "# Embarked - место посадки, тк колличиство пропущенных значений мало, \n",
    "# а так же нам известно откуда оправлялось большинство пасажиров, заполним отсутствующие значения наиболее часто встречающемся элементом в выборке \n",
    "\n",
    "    #df['Embarked'].fillna(df['Embarked'].mode()[0], inplace=True)\n",
    "\n",
    "train['Embarked'].fillna(train['Embarked'].mode()[0], inplace=True)\n",
    "\n",
    "# Cabin - номер каюты\n",
    "# заменим отсутствующие значения на \"NA\", так как мы не будем использовать этот признак для обучения модели\n",
    "\n",
    "    #df['Cabin'].fillna('NA', inplace=True)\n",
    "\n",
    "test['Cabin'].fillna('NA', inplace=True)\n",
    "train['Cabin'].fillna('NA', inplace=True)\n",
    "\n",
    "# Age - возраст\n",
    "# заменим отсутствующие значения на медианное значение этой переменной\n",
    "\n",
    "    #df['Age'].fillna(df['Age'].median, inplace=True)\n",
    "\n",
    "test['Age'].fillna(test['Age'].median(), inplace=True)\n",
    "train['Age'].fillna(train['Age'].median(), inplace=True)\n",
    "\n",
    "test['Age'] = test['Age'].astype('int')\n",
    "train['Age'] = train['Age'].astype('int')"
   ]
  },
  {
   "cell_type": "code",
   "execution_count": 14,
   "id": "d2e09fa3",
   "metadata": {
    "execution": {
     "iopub.execute_input": "2024-01-03T22:54:55.029208Z",
     "iopub.status.busy": "2024-01-03T22:54:55.028445Z",
     "iopub.status.idle": "2024-01-03T22:54:55.044944Z",
     "shell.execute_reply": "2024-01-03T22:54:55.043684Z"
    },
    "papermill": {
     "duration": 0.048573,
     "end_time": "2024-01-03T22:54:55.048080",
     "exception": false,
     "start_time": "2024-01-03T22:54:54.999507",
     "status": "completed"
    },
    "tags": []
   },
   "outputs": [
    {
     "name": "stdout",
     "output_type": "stream",
     "text": [
      "Данные пропущенные данные - \"train\"\n",
      "PassengerId    0\n",
      "Survived       0\n",
      "Pclass         0\n",
      "Name           0\n",
      "Sex            0\n",
      "Age            0\n",
      "SibSp          0\n",
      "Parch          0\n",
      "Ticket         0\n",
      "Fare           0\n",
      "Cabin          0\n",
      "Embarked       0\n",
      "dtype: int64\n",
      "\n",
      "\n",
      "Данные пропущенные данные - \"test\"\n",
      "PassengerId    0\n",
      "Pclass         0\n",
      "Name           0\n",
      "Sex            0\n",
      "Age            0\n",
      "SibSp          0\n",
      "Parch          0\n",
      "Ticket         0\n",
      "Fare           1\n",
      "Cabin          0\n",
      "Embarked       0\n",
      "dtype: int64\n"
     ]
    }
   ],
   "source": [
    "# Теперь ещё раз посмотрим на колличество пропущенных значений\n",
    "\n",
    "print('Данные пропущенные данные - \"train\"')\n",
    "print(train.isnull().sum())\n",
    "\n",
    "print('\\n')\n",
    "\n",
    "print('Данные пропущенные данные - \"test\"')\n",
    "print(test.isnull().sum())"
   ]
  },
  {
   "cell_type": "code",
   "execution_count": 15,
   "id": "17d2e853",
   "metadata": {
    "execution": {
     "iopub.execute_input": "2024-01-03T22:54:55.097730Z",
     "iopub.status.busy": "2024-01-03T22:54:55.096332Z",
     "iopub.status.idle": "2024-01-03T22:54:55.103030Z",
     "shell.execute_reply": "2024-01-03T22:54:55.102253Z"
    },
    "papermill": {
     "duration": 0.031849,
     "end_time": "2024-01-03T22:54:55.105412",
     "exception": false,
     "start_time": "2024-01-03T22:54:55.073563",
     "status": "completed"
    },
    "tags": []
   },
   "outputs": [],
   "source": [
    "# Видим что мы пропустили одно NAN значение для признака Fare - заполним его медианной величиной\n",
    "test['Fare'] = test['Fare'].fillna(test['Fare'].median())"
   ]
  },
  {
   "cell_type": "code",
   "execution_count": 16,
   "id": "6d169368",
   "metadata": {
    "execution": {
     "iopub.execute_input": "2024-01-03T22:54:55.146812Z",
     "iopub.status.busy": "2024-01-03T22:54:55.145397Z",
     "iopub.status.idle": "2024-01-03T22:54:55.159649Z",
     "shell.execute_reply": "2024-01-03T22:54:55.158612Z"
    },
    "papermill": {
     "duration": 0.038378,
     "end_time": "2024-01-03T22:54:55.162970",
     "exception": false,
     "start_time": "2024-01-03T22:54:55.124592",
     "status": "completed"
    },
    "tags": []
   },
   "outputs": [],
   "source": [
    "# Кодирование категориальных признаков\n",
    "\n",
    "# LabelEncoder заменит «мужские» значения одним числом (в нашем случае 1), а «женские» значения — другим числом.\n",
    "    \n",
    "train['Sex'] = LabelEncoder().fit_transform(train['Sex'])\n",
    "test['Sex'] = LabelEncoder().fit_transform(test['Sex'])\n",
    "\n",
    "#  Get_dummies создаст три различных столбца и назначит значения 0 или 1 в зависимости от соответствия значения этому столбцу.\n",
    "    \n",
    "dummies_train = pd.get_dummies(train['Embarked']).astype(int)\n",
    "dummies_test = pd.get_dummies(test['Embarked']).astype(int)\n",
    "\n",
    "train = pd.concat([train, dummies_train], axis=1)\n",
    "test = pd.concat([test, dummies_test], axis=1)"
   ]
  },
  {
   "cell_type": "code",
   "execution_count": 17,
   "id": "3ae8a438",
   "metadata": {
    "execution": {
     "iopub.execute_input": "2024-01-03T22:54:55.206494Z",
     "iopub.status.busy": "2024-01-03T22:54:55.205921Z",
     "iopub.status.idle": "2024-01-03T22:54:55.226957Z",
     "shell.execute_reply": "2024-01-03T22:54:55.225182Z"
    },
    "papermill": {
     "duration": 0.047087,
     "end_time": "2024-01-03T22:54:55.230213",
     "exception": false,
     "start_time": "2024-01-03T22:54:55.183126",
     "status": "completed"
    },
    "tags": []
   },
   "outputs": [
    {
     "data": {
      "text/html": [
       "<div>\n",
       "<style scoped>\n",
       "    .dataframe tbody tr th:only-of-type {\n",
       "        vertical-align: middle;\n",
       "    }\n",
       "\n",
       "    .dataframe tbody tr th {\n",
       "        vertical-align: top;\n",
       "    }\n",
       "\n",
       "    .dataframe thead th {\n",
       "        text-align: right;\n",
       "    }\n",
       "</style>\n",
       "<table border=\"1\" class=\"dataframe\">\n",
       "  <thead>\n",
       "    <tr style=\"text-align: right;\">\n",
       "      <th></th>\n",
       "      <th>PassengerId</th>\n",
       "      <th>Survived</th>\n",
       "      <th>Pclass</th>\n",
       "      <th>Name</th>\n",
       "      <th>Sex</th>\n",
       "      <th>Age</th>\n",
       "      <th>SibSp</th>\n",
       "      <th>Parch</th>\n",
       "      <th>Ticket</th>\n",
       "      <th>Fare</th>\n",
       "      <th>Cabin</th>\n",
       "      <th>Embarked</th>\n",
       "      <th>C</th>\n",
       "      <th>Q</th>\n",
       "      <th>S</th>\n",
       "    </tr>\n",
       "  </thead>\n",
       "  <tbody>\n",
       "    <tr>\n",
       "      <th>0</th>\n",
       "      <td>1</td>\n",
       "      <td>0</td>\n",
       "      <td>3</td>\n",
       "      <td>Braund, Mr. Owen Harris</td>\n",
       "      <td>1</td>\n",
       "      <td>22</td>\n",
       "      <td>1</td>\n",
       "      <td>0</td>\n",
       "      <td>A/5 21171</td>\n",
       "      <td>7.2500</td>\n",
       "      <td>NA</td>\n",
       "      <td>S</td>\n",
       "      <td>0</td>\n",
       "      <td>0</td>\n",
       "      <td>1</td>\n",
       "    </tr>\n",
       "    <tr>\n",
       "      <th>1</th>\n",
       "      <td>2</td>\n",
       "      <td>1</td>\n",
       "      <td>1</td>\n",
       "      <td>Cumings, Mrs. John Bradley (Florence Briggs Th...</td>\n",
       "      <td>0</td>\n",
       "      <td>38</td>\n",
       "      <td>1</td>\n",
       "      <td>0</td>\n",
       "      <td>PC 17599</td>\n",
       "      <td>71.2833</td>\n",
       "      <td>C85</td>\n",
       "      <td>C</td>\n",
       "      <td>1</td>\n",
       "      <td>0</td>\n",
       "      <td>0</td>\n",
       "    </tr>\n",
       "    <tr>\n",
       "      <th>2</th>\n",
       "      <td>3</td>\n",
       "      <td>1</td>\n",
       "      <td>3</td>\n",
       "      <td>Heikkinen, Miss. Laina</td>\n",
       "      <td>0</td>\n",
       "      <td>26</td>\n",
       "      <td>0</td>\n",
       "      <td>0</td>\n",
       "      <td>STON/O2. 3101282</td>\n",
       "      <td>7.9250</td>\n",
       "      <td>NA</td>\n",
       "      <td>S</td>\n",
       "      <td>0</td>\n",
       "      <td>0</td>\n",
       "      <td>1</td>\n",
       "    </tr>\n",
       "    <tr>\n",
       "      <th>3</th>\n",
       "      <td>4</td>\n",
       "      <td>1</td>\n",
       "      <td>1</td>\n",
       "      <td>Futrelle, Mrs. Jacques Heath (Lily May Peel)</td>\n",
       "      <td>0</td>\n",
       "      <td>35</td>\n",
       "      <td>1</td>\n",
       "      <td>0</td>\n",
       "      <td>113803</td>\n",
       "      <td>53.1000</td>\n",
       "      <td>C123</td>\n",
       "      <td>S</td>\n",
       "      <td>0</td>\n",
       "      <td>0</td>\n",
       "      <td>1</td>\n",
       "    </tr>\n",
       "    <tr>\n",
       "      <th>4</th>\n",
       "      <td>5</td>\n",
       "      <td>0</td>\n",
       "      <td>3</td>\n",
       "      <td>Allen, Mr. William Henry</td>\n",
       "      <td>1</td>\n",
       "      <td>35</td>\n",
       "      <td>0</td>\n",
       "      <td>0</td>\n",
       "      <td>373450</td>\n",
       "      <td>8.0500</td>\n",
       "      <td>NA</td>\n",
       "      <td>S</td>\n",
       "      <td>0</td>\n",
       "      <td>0</td>\n",
       "      <td>1</td>\n",
       "    </tr>\n",
       "  </tbody>\n",
       "</table>\n",
       "</div>"
      ],
      "text/plain": [
       "   PassengerId  Survived  Pclass  \\\n",
       "0            1         0       3   \n",
       "1            2         1       1   \n",
       "2            3         1       3   \n",
       "3            4         1       1   \n",
       "4            5         0       3   \n",
       "\n",
       "                                                Name  Sex  Age  SibSp  Parch  \\\n",
       "0                            Braund, Mr. Owen Harris    1   22      1      0   \n",
       "1  Cumings, Mrs. John Bradley (Florence Briggs Th...    0   38      1      0   \n",
       "2                             Heikkinen, Miss. Laina    0   26      0      0   \n",
       "3       Futrelle, Mrs. Jacques Heath (Lily May Peel)    0   35      1      0   \n",
       "4                           Allen, Mr. William Henry    1   35      0      0   \n",
       "\n",
       "             Ticket     Fare Cabin Embarked  C  Q  S  \n",
       "0         A/5 21171   7.2500    NA        S  0  0  1  \n",
       "1          PC 17599  71.2833   C85        C  1  0  0  \n",
       "2  STON/O2. 3101282   7.9250    NA        S  0  0  1  \n",
       "3            113803  53.1000  C123        S  0  0  1  \n",
       "4            373450   8.0500    NA        S  0  0  1  "
      ]
     },
     "execution_count": 17,
     "metadata": {},
     "output_type": "execute_result"
    }
   ],
   "source": [
    "train.head()"
   ]
  },
  {
   "cell_type": "code",
   "execution_count": 18,
   "id": "acefd72c",
   "metadata": {
    "execution": {
     "iopub.execute_input": "2024-01-03T22:54:55.281358Z",
     "iopub.status.busy": "2024-01-03T22:54:55.280162Z",
     "iopub.status.idle": "2024-01-03T22:54:55.302727Z",
     "shell.execute_reply": "2024-01-03T22:54:55.301586Z"
    },
    "papermill": {
     "duration": 0.050714,
     "end_time": "2024-01-03T22:54:55.305162",
     "exception": false,
     "start_time": "2024-01-03T22:54:55.254448",
     "status": "completed"
    },
    "tags": []
   },
   "outputs": [
    {
     "data": {
      "text/html": [
       "<div>\n",
       "<style scoped>\n",
       "    .dataframe tbody tr th:only-of-type {\n",
       "        vertical-align: middle;\n",
       "    }\n",
       "\n",
       "    .dataframe tbody tr th {\n",
       "        vertical-align: top;\n",
       "    }\n",
       "\n",
       "    .dataframe thead th {\n",
       "        text-align: right;\n",
       "    }\n",
       "</style>\n",
       "<table border=\"1\" class=\"dataframe\">\n",
       "  <thead>\n",
       "    <tr style=\"text-align: right;\">\n",
       "      <th></th>\n",
       "      <th>PassengerId</th>\n",
       "      <th>Pclass</th>\n",
       "      <th>Name</th>\n",
       "      <th>Sex</th>\n",
       "      <th>Age</th>\n",
       "      <th>SibSp</th>\n",
       "      <th>Parch</th>\n",
       "      <th>Ticket</th>\n",
       "      <th>Fare</th>\n",
       "      <th>Cabin</th>\n",
       "      <th>Embarked</th>\n",
       "      <th>C</th>\n",
       "      <th>Q</th>\n",
       "      <th>S</th>\n",
       "    </tr>\n",
       "  </thead>\n",
       "  <tbody>\n",
       "    <tr>\n",
       "      <th>0</th>\n",
       "      <td>892</td>\n",
       "      <td>3</td>\n",
       "      <td>Kelly, Mr. James</td>\n",
       "      <td>1</td>\n",
       "      <td>34</td>\n",
       "      <td>0</td>\n",
       "      <td>0</td>\n",
       "      <td>330911</td>\n",
       "      <td>7.8292</td>\n",
       "      <td>NA</td>\n",
       "      <td>Q</td>\n",
       "      <td>0</td>\n",
       "      <td>1</td>\n",
       "      <td>0</td>\n",
       "    </tr>\n",
       "    <tr>\n",
       "      <th>1</th>\n",
       "      <td>893</td>\n",
       "      <td>3</td>\n",
       "      <td>Wilkes, Mrs. James (Ellen Needs)</td>\n",
       "      <td>0</td>\n",
       "      <td>47</td>\n",
       "      <td>1</td>\n",
       "      <td>0</td>\n",
       "      <td>363272</td>\n",
       "      <td>7.0000</td>\n",
       "      <td>NA</td>\n",
       "      <td>S</td>\n",
       "      <td>0</td>\n",
       "      <td>0</td>\n",
       "      <td>1</td>\n",
       "    </tr>\n",
       "    <tr>\n",
       "      <th>2</th>\n",
       "      <td>894</td>\n",
       "      <td>2</td>\n",
       "      <td>Myles, Mr. Thomas Francis</td>\n",
       "      <td>1</td>\n",
       "      <td>62</td>\n",
       "      <td>0</td>\n",
       "      <td>0</td>\n",
       "      <td>240276</td>\n",
       "      <td>9.6875</td>\n",
       "      <td>NA</td>\n",
       "      <td>Q</td>\n",
       "      <td>0</td>\n",
       "      <td>1</td>\n",
       "      <td>0</td>\n",
       "    </tr>\n",
       "    <tr>\n",
       "      <th>3</th>\n",
       "      <td>895</td>\n",
       "      <td>3</td>\n",
       "      <td>Wirz, Mr. Albert</td>\n",
       "      <td>1</td>\n",
       "      <td>27</td>\n",
       "      <td>0</td>\n",
       "      <td>0</td>\n",
       "      <td>315154</td>\n",
       "      <td>8.6625</td>\n",
       "      <td>NA</td>\n",
       "      <td>S</td>\n",
       "      <td>0</td>\n",
       "      <td>0</td>\n",
       "      <td>1</td>\n",
       "    </tr>\n",
       "    <tr>\n",
       "      <th>4</th>\n",
       "      <td>896</td>\n",
       "      <td>3</td>\n",
       "      <td>Hirvonen, Mrs. Alexander (Helga E Lindqvist)</td>\n",
       "      <td>0</td>\n",
       "      <td>22</td>\n",
       "      <td>1</td>\n",
       "      <td>1</td>\n",
       "      <td>3101298</td>\n",
       "      <td>12.2875</td>\n",
       "      <td>NA</td>\n",
       "      <td>S</td>\n",
       "      <td>0</td>\n",
       "      <td>0</td>\n",
       "      <td>1</td>\n",
       "    </tr>\n",
       "  </tbody>\n",
       "</table>\n",
       "</div>"
      ],
      "text/plain": [
       "   PassengerId  Pclass                                          Name  Sex  \\\n",
       "0          892       3                              Kelly, Mr. James    1   \n",
       "1          893       3              Wilkes, Mrs. James (Ellen Needs)    0   \n",
       "2          894       2                     Myles, Mr. Thomas Francis    1   \n",
       "3          895       3                              Wirz, Mr. Albert    1   \n",
       "4          896       3  Hirvonen, Mrs. Alexander (Helga E Lindqvist)    0   \n",
       "\n",
       "   Age  SibSp  Parch   Ticket     Fare Cabin Embarked  C  Q  S  \n",
       "0   34      0      0   330911   7.8292    NA        Q  0  1  0  \n",
       "1   47      1      0   363272   7.0000    NA        S  0  0  1  \n",
       "2   62      0      0   240276   9.6875    NA        Q  0  1  0  \n",
       "3   27      0      0   315154   8.6625    NA        S  0  0  1  \n",
       "4   22      1      1  3101298  12.2875    NA        S  0  0  1  "
      ]
     },
     "execution_count": 18,
     "metadata": {},
     "output_type": "execute_result"
    }
   ],
   "source": [
    "test.head()"
   ]
  },
  {
   "cell_type": "code",
   "execution_count": 19,
   "id": "bd9f8045",
   "metadata": {
    "execution": {
     "iopub.execute_input": "2024-01-03T22:54:55.354706Z",
     "iopub.status.busy": "2024-01-03T22:54:55.353759Z",
     "iopub.status.idle": "2024-01-03T22:54:55.361228Z",
     "shell.execute_reply": "2024-01-03T22:54:55.359845Z"
    },
    "papermill": {
     "duration": 0.034526,
     "end_time": "2024-01-03T22:54:55.363612",
     "exception": false,
     "start_time": "2024-01-03T22:54:55.329086",
     "status": "completed"
    },
    "tags": []
   },
   "outputs": [
    {
     "data": {
      "text/plain": [
       "Index(['PassengerId', 'Survived', 'Pclass', 'Name', 'Sex', 'Age', 'SibSp',\n",
       "       'Parch', 'Ticket', 'Fare', 'Cabin', 'Embarked', 'C', 'Q', 'S'],\n",
       "      dtype='object')"
      ]
     },
     "execution_count": 19,
     "metadata": {},
     "output_type": "execute_result"
    }
   ],
   "source": [
    "# Посмотрим на колонки\n",
    "train.keys()"
   ]
  },
  {
   "cell_type": "code",
   "execution_count": 20,
   "id": "68d74851",
   "metadata": {
    "execution": {
     "iopub.execute_input": "2024-01-03T22:54:55.408772Z",
     "iopub.status.busy": "2024-01-03T22:54:55.408312Z",
     "iopub.status.idle": "2024-01-03T22:54:56.218815Z",
     "shell.execute_reply": "2024-01-03T22:54:56.217174Z"
    },
    "papermill": {
     "duration": 0.836906,
     "end_time": "2024-01-03T22:54:56.221885",
     "exception": false,
     "start_time": "2024-01-03T22:54:55.384979",
     "status": "completed"
    },
    "tags": []
   },
   "outputs": [
    {
     "data": {
      "image/png": "[encoded data removed]",
      "text/plain": [
       "<Figure size 1000x700 with 2 Axes>"
      ]
     },
     "metadata": {},
     "output_type": "display_data"
    }
   ],
   "source": [
    "selected_features = [\n",
    "    'PassengerId', 'Survived', 'Pclass', 'Sex', 'Age', 'SibSp',\n",
    "    'Parch', 'Fare', 'C', 'Q', 'S']\n",
    "\n",
    "# Plot the heatmap\n",
    "plt.figure(figsize=(10, 7), dpi = 100)\n",
    "sns.heatmap(\n",
    "    train[selected_features].corr(),\n",
    "    annot=True,\n",
    "    fmt=\".2f\",\n",
    "    linewidths=.5\n",
    ");"
   ]
  },
  {
   "cell_type": "code",
   "execution_count": 21,
   "id": "6c3c053d",
   "metadata": {
    "execution": {
     "iopub.execute_input": "2024-01-03T22:54:56.270829Z",
     "iopub.status.busy": "2024-01-03T22:54:56.270292Z",
     "iopub.status.idle": "2024-01-03T22:54:56.282181Z",
     "shell.execute_reply": "2024-01-03T22:54:56.280651Z"
    },
    "papermill": {
     "duration": 0.04008,
     "end_time": "2024-01-03T22:54:56.285079",
     "exception": false,
     "start_time": "2024-01-03T22:54:56.244999",
     "status": "completed"
    },
    "tags": []
   },
   "outputs": [],
   "source": [
    "# Разбиваем данные на train и hold_out\n",
    "\n",
    "X = train.drop(['PassengerId', 'Survived', 'Name', 'Ticket', 'Embarked', 'Cabin'], axis = 1)\n",
    "y = train['Survived']\n",
    "\n",
    "X_train, X_test, y_train, y_test = train_test_split(X, y, test_size=0.1, random_state=42)"
   ]
  },
  {
   "cell_type": "code",
   "execution_count": 22,
   "id": "8f655dfa",
   "metadata": {
    "execution": {
     "iopub.execute_input": "2024-01-03T22:54:56.333657Z",
     "iopub.status.busy": "2024-01-03T22:54:56.333119Z",
     "iopub.status.idle": "2024-01-03T22:54:56.349163Z",
     "shell.execute_reply": "2024-01-03T22:54:56.348038Z"
    },
    "papermill": {
     "duration": 0.044291,
     "end_time": "2024-01-03T22:54:56.352498",
     "exception": false,
     "start_time": "2024-01-03T22:54:56.308207",
     "status": "completed"
    },
    "tags": []
   },
   "outputs": [
    {
     "name": "stdout",
     "output_type": "stream",
     "text": [
      "<class 'pandas.core.frame.DataFrame'>\n",
      "Index: 801 entries, 165 to 102\n",
      "Data columns (total 9 columns):\n",
      " #   Column  Non-Null Count  Dtype  \n",
      "---  ------  --------------  -----  \n",
      " 0   Pclass  801 non-null    int64  \n",
      " 1   Sex     801 non-null    int64  \n",
      " 2   Age     801 non-null    int64  \n",
      " 3   SibSp   801 non-null    int64  \n",
      " 4   Parch   801 non-null    int64  \n",
      " 5   Fare    801 non-null    float64\n",
      " 6   C       801 non-null    int64  \n",
      " 7   Q       801 non-null    int64  \n",
      " 8   S       801 non-null    int64  \n",
      "dtypes: float64(1), int64(8)\n",
      "memory usage: 62.6 KB\n"
     ]
    }
   ],
   "source": [
    "X_train.info()"
   ]
  },
  {
   "cell_type": "code",
   "execution_count": 23,
   "id": "728bd116",
   "metadata": {
    "execution": {
     "iopub.execute_input": "2024-01-03T22:54:56.400079Z",
     "iopub.status.busy": "2024-01-03T22:54:56.399628Z",
     "iopub.status.idle": "2024-01-03T22:54:56.414444Z",
     "shell.execute_reply": "2024-01-03T22:54:56.412782Z"
    },
    "papermill": {
     "duration": 0.042534,
     "end_time": "2024-01-03T22:54:56.417474",
     "exception": false,
     "start_time": "2024-01-03T22:54:56.374940",
     "status": "completed"
    },
    "tags": []
   },
   "outputs": [],
   "source": [
    "# Напишем функцию для обработки результатов и построения ROC графика\n",
    "\n",
    "def prediction_function(model):\n",
    "    # Получаем лучшую модель из GridSearchCV\n",
    "    best_model = model.best_estimator_\n",
    "\n",
    "    # Получаем предсказания на НЕ отмасштабированных тестовых данных\n",
    "    predictions = best_model.predict(X_test)\n",
    "\n",
    "    # Оценка точности\n",
    "    accuracy = accuracy_score(y_test, predictions)\n",
    "    print(f'Accuracy: {accuracy}')\n",
    "\n",
    "    # Confusion Matrix\n",
    "    conf_matrix = confusion_matrix(y_test, predictions)\n",
    "    print(f'Confusion Matrix:\\n{conf_matrix}')\n",
    "\n",
    "    # Classification Report\n",
    "    class_report = classification_report(y_test, predictions)\n",
    "    print(f'Classification Report:\\n{class_report}')\n",
    "    \n",
    "    # ROC Curve (если модель поддерживает вероятности)\n",
    "    if hasattr(model, \"predict_proba\"):\n",
    "        y_prob = model.predict_proba(X_test)[:, 1]  # Вероятности для класса 1\n",
    "        fpr, tpr, thresholds = roc_curve(y_test, y_prob)\n",
    "        roc_auc = auc(fpr, tpr)\n",
    "        \n",
    "        # Построение ROC-кривой\n",
    "\n",
    "        plt.figure(figsize=(8, 6))\n",
    "        plt.plot(fpr, tpr, color='darkorange', lw=2, label=f'ROC curve (area = {roc_auc:.2f})')\n",
    "        plt.plot([0, 1], [0, 1], color='navy', lw=2, linestyle='--')\n",
    "        plt.xlabel('False Positive Rate')\n",
    "        plt.ylabel('True Positive Rate')\n",
    "        plt.title('Receiver Operating Characteristic (ROC) Curve')\n",
    "        plt.legend(loc='lower right')\n",
    "        plt.show();\n",
    "        \n",
    "    else:\n",
    "        print(\"Модель не поддерживает предсказание вероятности.\")    "
   ]
  },
  {
   "cell_type": "code",
   "execution_count": 24,
   "id": "f91f57c2",
   "metadata": {
    "execution": {
     "iopub.execute_input": "2024-01-03T22:54:56.469308Z",
     "iopub.status.busy": "2024-01-03T22:54:56.468787Z",
     "iopub.status.idle": "2024-01-03T22:55:00.920908Z",
     "shell.execute_reply": "2024-01-03T22:55:00.919378Z"
    },
    "papermill": {
     "duration": 4.480794,
     "end_time": "2024-01-03T22:55:00.923497",
     "exception": false,
     "start_time": "2024-01-03T22:54:56.442703",
     "status": "completed"
    },
    "tags": []
   },
   "outputs": [
    {
     "name": "stderr",
     "output_type": "stream",
     "text": [
      "/opt/conda/lib/python3.10/site-packages/sklearn/linear_model/_sag.py:350: ConvergenceWarning: The max_iter was reached which means the coef_ did not converge\n",
      "  warnings.warn(\n",
      "/opt/conda/lib/python3.10/site-packages/sklearn/linear_model/_sag.py:350: ConvergenceWarning: The max_iter was reached which means the coef_ did not converge\n",
      "  warnings.warn(\n"
     ]
    },
    {
     "data": {
      "text/html": [
       "<style>#sk-container-id-1 {color: black;background-color: white;}#sk-container-id-1 pre{padding: 0;}#sk-container-id-1 div.sk-toggleable {background-color: white;}#sk-container-id-1 label.sk-toggleable__label {cursor: pointer;display: block;width: 100%;margin-bottom: 0;padding: 0.3em;box-sizing: border-box;text-align: center;}#sk-container-id-1 label.sk-toggleable__label-arrow:before {content: \"▸\";float: left;margin-right: 0.25em;color: #696969;}#sk-container-id-1 label.sk-toggleable__label-arrow:hover:before {color: black;}#sk-container-id-1 div.sk-estimator:hover label.sk-toggleable__label-arrow:before {color: black;}#sk-container-id-1 div.sk-toggleable__content {max-height: 0;max-width: 0;overflow: hidden;text-align: left;background-color: #f0f8ff;}#sk-container-id-1 div.sk-toggleable__content pre {margin: 0.2em;color: black;border-radius: 0.25em;background-color: #f0f8ff;}#sk-container-id-1 input.sk-toggleable__control:checked~div.sk-toggleable__content {max-height: 200px;max-width: 100%;overflow: auto;}#sk-container-id-1 input.sk-toggleable__control:checked~label.sk-toggleable__label-arrow:before {content: \"▾\";}#sk-container-id-1 div.sk-estimator input.sk-toggleable__control:checked~label.sk-toggleable__label {background-color: #d4ebff;}#sk-container-id-1 div.sk-label input.sk-toggleable__control:checked~label.sk-toggleable__label {background-color: #d4ebff;}#sk-container-id-1 input.sk-hidden--visually {border: 0;clip: rect(1px 1px 1px 1px);clip: rect(1px, 1px, 1px, 1px);height: 1px;margin: -1px;overflow: hidden;padding: 0;position: absolute;width: 1px;}#sk-container-id-1 div.sk-estimator {font-family: monospace;background-color: #f0f8ff;border: 1px dotted black;border-radius: 0.25em;box-sizing: border-box;margin-bottom: 0.5em;}#sk-container-id-1 div.sk-estimator:hover {background-color: #d4ebff;}#sk-container-id-1 div.sk-parallel-item::after {content: \"\";width: 100%;border-bottom: 1px solid gray;flex-grow: 1;}#sk-container-id-1 div.sk-label:hover label.sk-toggleable__label {background-color: #d4ebff;}#sk-container-id-1 div.sk-serial::before {content: \"\";position: absolute;border-left: 1px solid gray;box-sizing: border-box;top: 0;bottom: 0;left: 50%;z-index: 0;}#sk-container-id-1 div.sk-serial {display: flex;flex-direction: column;align-items: center;background-color: white;padding-right: 0.2em;padding-left: 0.2em;position: relative;}#sk-container-id-1 div.sk-item {position: relative;z-index: 1;}#sk-container-id-1 div.sk-parallel {display: flex;align-items: stretch;justify-content: center;background-color: white;position: relative;}#sk-container-id-1 div.sk-item::before, #sk-container-id-1 div.sk-parallel-item::before {content: \"\";position: absolute;border-left: 1px solid gray;box-sizing: border-box;top: 0;bottom: 0;left: 50%;z-index: -1;}#sk-container-id-1 div.sk-parallel-item {display: flex;flex-direction: column;z-index: 1;position: relative;background-color: white;}#sk-container-id-1 div.sk-parallel-item:first-child::after {align-self: flex-end;width: 50%;}#sk-container-id-1 div.sk-parallel-item:last-child::after {align-self: flex-start;width: 50%;}#sk-container-id-1 div.sk-parallel-item:only-child::after {width: 0;}#sk-container-id-1 div.sk-dashed-wrapped {border: 1px dashed gray;margin: 0 0.4em 0.5em 0.4em;box-sizing: border-box;padding-bottom: 0.4em;background-color: white;}#sk-container-id-1 div.sk-label label {font-family: monospace;font-weight: bold;display: inline-block;line-height: 1.2em;}#sk-container-id-1 div.sk-label-container {text-align: center;}#sk-container-id-1 div.sk-container {/* jupyter's `normalize.less` sets `[hidden] { display: none; }` but bootstrap.min.css set `[hidden] { display: none !important; }` so we also need the `!important` here to be able to override the default hidden behavior on the sphinx rendered scikit-learn.org. See: https://github.com/scikit-learn/scikit-learn/issues/21755 */display: inline-block !important;position: relative;}#sk-container-id-1 div.sk-text-repr-fallback {display: none;}</style><div id=\"sk-container-id-1\" class=\"sk-top-container\"><div class=\"sk-text-repr-fallback\"><pre>GridSearchCV(cv=5,\n",
       "             estimator=Pipeline(steps=[(&#x27;scaler&#x27;, StandardScaler()),\n",
       "                                       (&#x27;log_model&#x27;, LogisticRegression())]),\n",
       "             param_grid={&#x27;log_model__C&#x27;: [0.001, 0.01, 0.1, 1, 10, 100],\n",
       "                         &#x27;log_model__max_iter&#x27;: [100, 500, 1000],\n",
       "                         &#x27;log_model__penalty&#x27;: [&#x27;l1&#x27;, &#x27;l2&#x27;],\n",
       "                         &#x27;log_model__solver&#x27;: [&#x27;liblinear&#x27;, &#x27;saga&#x27;]},\n",
       "             scoring=&#x27;neg_mean_squared_error&#x27;)</pre><b>In a Jupyter environment, please rerun this cell to show the HTML representation or trust the notebook. <br />On GitHub, the HTML representation is unable to render, please try loading this page with nbviewer.org.</b></div><div class=\"sk-container\" hidden><div class=\"sk-item sk-dashed-wrapped\"><div class=\"sk-label-container\"><div class=\"sk-label sk-toggleable\"><input class=\"sk-toggleable__control sk-hidden--visually\" id=\"sk-estimator-id-1\" type=\"checkbox\" ><label for=\"sk-estimator-id-1\" class=\"sk-toggleable__label sk-toggleable__label-arrow\">GridSearchCV</label><div class=\"sk-toggleable__content\"><pre>GridSearchCV(cv=5,\n",
       "             estimator=Pipeline(steps=[(&#x27;scaler&#x27;, StandardScaler()),\n",
       "                                       (&#x27;log_model&#x27;, LogisticRegression())]),\n",
       "             param_grid={&#x27;log_model__C&#x27;: [0.001, 0.01, 0.1, 1, 10, 100],\n",
       "                         &#x27;log_model__max_iter&#x27;: [100, 500, 1000],\n",
       "                         &#x27;log_model__penalty&#x27;: [&#x27;l1&#x27;, &#x27;l2&#x27;],\n",
       "                         &#x27;log_model__solver&#x27;: [&#x27;liblinear&#x27;, &#x27;saga&#x27;]},\n",
       "             scoring=&#x27;neg_mean_squared_error&#x27;)</pre></div></div></div><div class=\"sk-parallel\"><div class=\"sk-parallel-item\"><div class=\"sk-item\"><div class=\"sk-label-container\"><div class=\"sk-label sk-toggleable\"><input class=\"sk-toggleable__control sk-hidden--visually\" id=\"sk-estimator-id-2\" type=\"checkbox\" ><label for=\"sk-estimator-id-2\" class=\"sk-toggleable__label sk-toggleable__label-arrow\">estimator: Pipeline</label><div class=\"sk-toggleable__content\"><pre>Pipeline(steps=[(&#x27;scaler&#x27;, StandardScaler()),\n",
       "                (&#x27;log_model&#x27;, LogisticRegression())])</pre></div></div></div><div class=\"sk-serial\"><div class=\"sk-item\"><div class=\"sk-serial\"><div class=\"sk-item\"><div class=\"sk-estimator sk-toggleable\"><input class=\"sk-toggleable__control sk-hidden--visually\" id=\"sk-estimator-id-3\" type=\"checkbox\" ><label for=\"sk-estimator-id-3\" class=\"sk-toggleable__label sk-toggleable__label-arrow\">StandardScaler</label><div class=\"sk-toggleable__content\"><pre>StandardScaler()</pre></div></div></div><div class=\"sk-item\"><div class=\"sk-estimator sk-toggleable\"><input class=\"sk-toggleable__control sk-hidden--visually\" id=\"sk-estimator-id-4\" type=\"checkbox\" ><label for=\"sk-estimator-id-4\" class=\"sk-toggleable__label sk-toggleable__label-arrow\">LogisticRegression</label><div class=\"sk-toggleable__content\"><pre>LogisticRegression()</pre></div></div></div></div></div></div></div></div></div></div></div></div>"
      ],
      "text/plain": [
       "GridSearchCV(cv=5,\n",
       "             estimator=Pipeline(steps=[('scaler', StandardScaler()),\n",
       "                                       ('log_model', LogisticRegression())]),\n",
       "             param_grid={'log_model__C': [0.001, 0.01, 0.1, 1, 10, 100],\n",
       "                         'log_model__max_iter': [100, 500, 1000],\n",
       "                         'log_model__penalty': ['l1', 'l2'],\n",
       "                         'log_model__solver': ['liblinear', 'saga']},\n",
       "             scoring='neg_mean_squared_error')"
      ]
     },
     "execution_count": 24,
     "metadata": {},
     "output_type": "execute_result"
    }
   ],
   "source": [
    "# Определение операций для пайплайна\n",
    "scaler = StandardScaler()\n",
    "log_model = LogisticRegression()\n",
    "\n",
    "# Список операций для пайплайна\n",
    "operations_log_model = [('scaler', scaler), ('log_model', log_model)]\n",
    "\n",
    "# Создание пайплайна\n",
    "pipe_log_model = Pipeline(operations_log_model)\n",
    "\n",
    "# Определение значений для перебора\n",
    "param_grid_log_model = {\n",
    "    'log_model__C': [0.001, 0.01, 0.1, 1, 10, 100],\n",
    "    'log_model__penalty': ['l1', 'l2'],\n",
    "    'log_model__solver': ['liblinear', 'saga'],\n",
    "    'log_model__max_iter': [100, 500, 1000]\n",
    "}\n",
    "\n",
    "# Инициализация GridSearchCV\n",
    "full_cv_classifier_log_model = GridSearchCV(pipe_log_model, param_grid_log_model, cv=5, scoring='neg_mean_squared_error')\n",
    "\n",
    "# Обучение модели с помощью GridSearchCV\n",
    "full_cv_classifier_log_model.fit(X_train, y_train)"
   ]
  },
  {
   "cell_type": "code",
   "execution_count": 25,
   "id": "81c63e88",
   "metadata": {
    "execution": {
     "iopub.execute_input": "2024-01-03T22:55:00.974371Z",
     "iopub.status.busy": "2024-01-03T22:55:00.973911Z",
     "iopub.status.idle": "2024-01-03T22:55:00.984072Z",
     "shell.execute_reply": "2024-01-03T22:55:00.983145Z"
    },
    "papermill": {
     "duration": 0.03753,
     "end_time": "2024-01-03T22:55:00.986885",
     "exception": false,
     "start_time": "2024-01-03T22:55:00.949355",
     "status": "completed"
    },
    "tags": []
   },
   "outputs": [
    {
     "data": {
      "text/plain": [
       "{'memory': None,\n",
       " 'steps': [('scaler', StandardScaler()),\n",
       "  ('log_model', LogisticRegression(C=0.01, solver='saga'))],\n",
       " 'verbose': False,\n",
       " 'scaler': StandardScaler(),\n",
       " 'log_model': LogisticRegression(C=0.01, solver='saga'),\n",
       " 'scaler__copy': True,\n",
       " 'scaler__with_mean': True,\n",
       " 'scaler__with_std': True,\n",
       " 'log_model__C': 0.01,\n",
       " 'log_model__class_weight': None,\n",
       " 'log_model__dual': False,\n",
       " 'log_model__fit_intercept': True,\n",
       " 'log_model__intercept_scaling': 1,\n",
       " 'log_model__l1_ratio': None,\n",
       " 'log_model__max_iter': 100,\n",
       " 'log_model__multi_class': 'auto',\n",
       " 'log_model__n_jobs': None,\n",
       " 'log_model__penalty': 'l2',\n",
       " 'log_model__random_state': None,\n",
       " 'log_model__solver': 'saga',\n",
       " 'log_model__tol': 0.0001,\n",
       " 'log_model__verbose': 0,\n",
       " 'log_model__warm_start': False}"
      ]
     },
     "execution_count": 25,
     "metadata": {},
     "output_type": "execute_result"
    }
   ],
   "source": [
    "full_cv_classifier_log_model.best_estimator_.get_params()"
   ]
  },
  {
   "cell_type": "code",
   "execution_count": 26,
   "id": "7d843dbc",
   "metadata": {
    "execution": {
     "iopub.execute_input": "2024-01-03T22:55:01.036523Z",
     "iopub.status.busy": "2024-01-03T22:55:01.035148Z",
     "iopub.status.idle": "2024-01-03T22:55:12.201105Z",
     "shell.execute_reply": "2024-01-03T22:55:12.199768Z"
    },
    "papermill": {
     "duration": 11.193772,
     "end_time": "2024-01-03T22:55:12.204094",
     "exception": false,
     "start_time": "2024-01-03T22:55:01.010322",
     "status": "completed"
    },
    "tags": []
   },
   "outputs": [
    {
     "data": {
      "text/html": [
       "<style>#sk-container-id-2 {color: black;background-color: white;}#sk-container-id-2 pre{padding: 0;}#sk-container-id-2 div.sk-toggleable {background-color: white;}#sk-container-id-2 label.sk-toggleable__label {cursor: pointer;display: block;width: 100%;margin-bottom: 0;padding: 0.3em;box-sizing: border-box;text-align: center;}#sk-container-id-2 label.sk-toggleable__label-arrow:before {content: \"▸\";float: left;margin-right: 0.25em;color: #696969;}#sk-container-id-2 label.sk-toggleable__label-arrow:hover:before {color: black;}#sk-container-id-2 div.sk-estimator:hover label.sk-toggleable__label-arrow:before {color: black;}#sk-container-id-2 div.sk-toggleable__content {max-height: 0;max-width: 0;overflow: hidden;text-align: left;background-color: #f0f8ff;}#sk-container-id-2 div.sk-toggleable__content pre {margin: 0.2em;color: black;border-radius: 0.25em;background-color: #f0f8ff;}#sk-container-id-2 input.sk-toggleable__control:checked~div.sk-toggleable__content {max-height: 200px;max-width: 100%;overflow: auto;}#sk-container-id-2 input.sk-toggleable__control:checked~label.sk-toggleable__label-arrow:before {content: \"▾\";}#sk-container-id-2 div.sk-estimator input.sk-toggleable__control:checked~label.sk-toggleable__label {background-color: #d4ebff;}#sk-container-id-2 div.sk-label input.sk-toggleable__control:checked~label.sk-toggleable__label {background-color: #d4ebff;}#sk-container-id-2 input.sk-hidden--visually {border: 0;clip: rect(1px 1px 1px 1px);clip: rect(1px, 1px, 1px, 1px);height: 1px;margin: -1px;overflow: hidden;padding: 0;position: absolute;width: 1px;}#sk-container-id-2 div.sk-estimator {font-family: monospace;background-color: #f0f8ff;border: 1px dotted black;border-radius: 0.25em;box-sizing: border-box;margin-bottom: 0.5em;}#sk-container-id-2 div.sk-estimator:hover {background-color: #d4ebff;}#sk-container-id-2 div.sk-parallel-item::after {content: \"\";width: 100%;border-bottom: 1px solid gray;flex-grow: 1;}#sk-container-id-2 div.sk-label:hover label.sk-toggleable__label {background-color: #d4ebff;}#sk-container-id-2 div.sk-serial::before {content: \"\";position: absolute;border-left: 1px solid gray;box-sizing: border-box;top: 0;bottom: 0;left: 50%;z-index: 0;}#sk-container-id-2 div.sk-serial {display: flex;flex-direction: column;align-items: center;background-color: white;padding-right: 0.2em;padding-left: 0.2em;position: relative;}#sk-container-id-2 div.sk-item {position: relative;z-index: 1;}#sk-container-id-2 div.sk-parallel {display: flex;align-items: stretch;justify-content: center;background-color: white;position: relative;}#sk-container-id-2 div.sk-item::before, #sk-container-id-2 div.sk-parallel-item::before {content: \"\";position: absolute;border-left: 1px solid gray;box-sizing: border-box;top: 0;bottom: 0;left: 50%;z-index: -1;}#sk-container-id-2 div.sk-parallel-item {display: flex;flex-direction: column;z-index: 1;position: relative;background-color: white;}#sk-container-id-2 div.sk-parallel-item:first-child::after {align-self: flex-end;width: 50%;}#sk-container-id-2 div.sk-parallel-item:last-child::after {align-self: flex-start;width: 50%;}#sk-container-id-2 div.sk-parallel-item:only-child::after {width: 0;}#sk-container-id-2 div.sk-dashed-wrapped {border: 1px dashed gray;margin: 0 0.4em 0.5em 0.4em;box-sizing: border-box;padding-bottom: 0.4em;background-color: white;}#sk-container-id-2 div.sk-label label {font-family: monospace;font-weight: bold;display: inline-block;line-height: 1.2em;}#sk-container-id-2 div.sk-label-container {text-align: center;}#sk-container-id-2 div.sk-container {/* jupyter's `normalize.less` sets `[hidden] { display: none; }` but bootstrap.min.css set `[hidden] { display: none !important; }` so we also need the `!important` here to be able to override the default hidden behavior on the sphinx rendered scikit-learn.org. See: https://github.com/scikit-learn/scikit-learn/issues/21755 */display: inline-block !important;position: relative;}#sk-container-id-2 div.sk-text-repr-fallback {display: none;}</style><div id=\"sk-container-id-2\" class=\"sk-top-container\"><div class=\"sk-text-repr-fallback\"><pre>GridSearchCV(cv=5,\n",
       "             estimator=Pipeline(steps=[(&#x27;scaler&#x27;, StandardScaler()),\n",
       "                                       (&#x27;knn&#x27;, KNeighborsClassifier())]),\n",
       "             param_grid={&#x27;knn__metric&#x27;: [&#x27;euclidean&#x27;, &#x27;manhattan&#x27;, &#x27;chebyshev&#x27;],\n",
       "                         &#x27;knn__n_neighbors&#x27;: [1, 2, 3, 4, 5, 6, 7, 8, 9, 10, 11,\n",
       "                                              12, 13, 14, 15, 16, 17, 18, 19,\n",
       "                                              20],\n",
       "                         &#x27;knn__weights&#x27;: [&#x27;uniform&#x27;, &#x27;distance&#x27;]},\n",
       "             scoring=&#x27;accuracy&#x27;)</pre><b>In a Jupyter environment, please rerun this cell to show the HTML representation or trust the notebook. <br />On GitHub, the HTML representation is unable to render, please try loading this page with nbviewer.org.</b></div><div class=\"sk-container\" hidden><div class=\"sk-item sk-dashed-wrapped\"><div class=\"sk-label-container\"><div class=\"sk-label sk-toggleable\"><input class=\"sk-toggleable__control sk-hidden--visually\" id=\"sk-estimator-id-5\" type=\"checkbox\" ><label for=\"sk-estimator-id-5\" class=\"sk-toggleable__label sk-toggleable__label-arrow\">GridSearchCV</label><div class=\"sk-toggleable__content\"><pre>GridSearchCV(cv=5,\n",
       "             estimator=Pipeline(steps=[(&#x27;scaler&#x27;, StandardScaler()),\n",
       "                                       (&#x27;knn&#x27;, KNeighborsClassifier())]),\n",
       "             param_grid={&#x27;knn__metric&#x27;: [&#x27;euclidean&#x27;, &#x27;manhattan&#x27;, &#x27;chebyshev&#x27;],\n",
       "                         &#x27;knn__n_neighbors&#x27;: [1, 2, 3, 4, 5, 6, 7, 8, 9, 10, 11,\n",
       "                                              12, 13, 14, 15, 16, 17, 18, 19,\n",
       "                                              20],\n",
       "                         &#x27;knn__weights&#x27;: [&#x27;uniform&#x27;, &#x27;distance&#x27;]},\n",
       "             scoring=&#x27;accuracy&#x27;)</pre></div></div></div><div class=\"sk-parallel\"><div class=\"sk-parallel-item\"><div class=\"sk-item\"><div class=\"sk-label-container\"><div class=\"sk-label sk-toggleable\"><input class=\"sk-toggleable__control sk-hidden--visually\" id=\"sk-estimator-id-6\" type=\"checkbox\" ><label for=\"sk-estimator-id-6\" class=\"sk-toggleable__label sk-toggleable__label-arrow\">estimator: Pipeline</label><div class=\"sk-toggleable__content\"><pre>Pipeline(steps=[(&#x27;scaler&#x27;, StandardScaler()), (&#x27;knn&#x27;, KNeighborsClassifier())])</pre></div></div></div><div class=\"sk-serial\"><div class=\"sk-item\"><div class=\"sk-serial\"><div class=\"sk-item\"><div class=\"sk-estimator sk-toggleable\"><input class=\"sk-toggleable__control sk-hidden--visually\" id=\"sk-estimator-id-7\" type=\"checkbox\" ><label for=\"sk-estimator-id-7\" class=\"sk-toggleable__label sk-toggleable__label-arrow\">StandardScaler</label><div class=\"sk-toggleable__content\"><pre>StandardScaler()</pre></div></div></div><div class=\"sk-item\"><div class=\"sk-estimator sk-toggleable\"><input class=\"sk-toggleable__control sk-hidden--visually\" id=\"sk-estimator-id-8\" type=\"checkbox\" ><label for=\"sk-estimator-id-8\" class=\"sk-toggleable__label sk-toggleable__label-arrow\">KNeighborsClassifier</label><div class=\"sk-toggleable__content\"><pre>KNeighborsClassifier()</pre></div></div></div></div></div></div></div></div></div></div></div></div>"
      ],
      "text/plain": [
       "GridSearchCV(cv=5,\n",
       "             estimator=Pipeline(steps=[('scaler', StandardScaler()),\n",
       "                                       ('knn', KNeighborsClassifier())]),\n",
       "             param_grid={'knn__metric': ['euclidean', 'manhattan', 'chebyshev'],\n",
       "                         'knn__n_neighbors': [1, 2, 3, 4, 5, 6, 7, 8, 9, 10, 11,\n",
       "                                              12, 13, 14, 15, 16, 17, 18, 19,\n",
       "                                              20],\n",
       "                         'knn__weights': ['uniform', 'distance']},\n",
       "             scoring='accuracy')"
      ]
     },
     "execution_count": 26,
     "metadata": {},
     "output_type": "execute_result"
    }
   ],
   "source": [
    "# Создадим пайплайн для KNN\n",
    "# Определение операций для пайплайна\n",
    "scaler = StandardScaler()\n",
    "knn = KNeighborsClassifier()\n",
    "operations_knn = [('scaler', scaler), ('knn', knn)]\n",
    "\n",
    "# Создание пайплайна\n",
    "pipe_knn = Pipeline(operations_knn)\n",
    "\n",
    "# Определение значений k для поиска лучшего значения\n",
    "k_values = list(range(1, 21))\n",
    "param_grid_knn = {\n",
    "    'knn__n_neighbors': k_values,\n",
    "    'knn__weights': ['uniform', 'distance'],\n",
    "    'knn__metric': ['euclidean', 'manhattan', 'chebyshev']\n",
    "}\n",
    "\n",
    "# Инициализация GridSearchCV\n",
    "full_cv_classifier_knn = GridSearchCV(pipe_knn, param_grid_knn, cv=5, scoring='accuracy')\n",
    "\n",
    "# Обучение модели с помощью GridSearchCV\n",
    "full_cv_classifier_knn.fit(X_train, y_train)"
   ]
  },
  {
   "cell_type": "code",
   "execution_count": 27,
   "id": "e5aded77",
   "metadata": {
    "execution": {
     "iopub.execute_input": "2024-01-03T22:55:12.256027Z",
     "iopub.status.busy": "2024-01-03T22:55:12.254829Z",
     "iopub.status.idle": "2024-01-03T22:55:12.265622Z",
     "shell.execute_reply": "2024-01-03T22:55:12.264342Z"
    },
    "papermill": {
     "duration": 0.03966,
     "end_time": "2024-01-03T22:55:12.268138",
     "exception": false,
     "start_time": "2024-01-03T22:55:12.228478",
     "status": "completed"
    },
    "tags": []
   },
   "outputs": [
    {
     "data": {
      "text/plain": [
       "{'memory': None,\n",
       " 'steps': [('scaler', StandardScaler()),\n",
       "  ('knn', KNeighborsClassifier(metric='manhattan', n_neighbors=18))],\n",
       " 'verbose': False,\n",
       " 'scaler': StandardScaler(),\n",
       " 'knn': KNeighborsClassifier(metric='manhattan', n_neighbors=18),\n",
       " 'scaler__copy': True,\n",
       " 'scaler__with_mean': True,\n",
       " 'scaler__with_std': True,\n",
       " 'knn__algorithm': 'auto',\n",
       " 'knn__leaf_size': 30,\n",
       " 'knn__metric': 'manhattan',\n",
       " 'knn__metric_params': None,\n",
       " 'knn__n_jobs': None,\n",
       " 'knn__n_neighbors': 18,\n",
       " 'knn__p': 2,\n",
       " 'knn__weights': 'uniform'}"
      ]
     },
     "execution_count": 27,
     "metadata": {},
     "output_type": "execute_result"
    }
   ],
   "source": [
    "full_cv_classifier_knn.best_estimator_.get_params()"
   ]
  },
  {
   "cell_type": "code",
   "execution_count": 28,
   "id": "7e34f359",
   "metadata": {
    "execution": {
     "iopub.execute_input": "2024-01-03T22:55:12.320464Z",
     "iopub.status.busy": "2024-01-03T22:55:12.319084Z",
     "iopub.status.idle": "2024-01-03T22:55:14.646918Z",
     "shell.execute_reply": "2024-01-03T22:55:14.645778Z"
    },
    "papermill": {
     "duration": 2.356936,
     "end_time": "2024-01-03T22:55:14.650053",
     "exception": false,
     "start_time": "2024-01-03T22:55:12.293117",
     "status": "completed"
    },
    "tags": []
   },
   "outputs": [
    {
     "data": {
      "text/html": [
       "<style>#sk-container-id-3 {color: black;background-color: white;}#sk-container-id-3 pre{padding: 0;}#sk-container-id-3 div.sk-toggleable {background-color: white;}#sk-container-id-3 label.sk-toggleable__label {cursor: pointer;display: block;width: 100%;margin-bottom: 0;padding: 0.3em;box-sizing: border-box;text-align: center;}#sk-container-id-3 label.sk-toggleable__label-arrow:before {content: \"▸\";float: left;margin-right: 0.25em;color: #696969;}#sk-container-id-3 label.sk-toggleable__label-arrow:hover:before {color: black;}#sk-container-id-3 div.sk-estimator:hover label.sk-toggleable__label-arrow:before {color: black;}#sk-container-id-3 div.sk-toggleable__content {max-height: 0;max-width: 0;overflow: hidden;text-align: left;background-color: #f0f8ff;}#sk-container-id-3 div.sk-toggleable__content pre {margin: 0.2em;color: black;border-radius: 0.25em;background-color: #f0f8ff;}#sk-container-id-3 input.sk-toggleable__control:checked~div.sk-toggleable__content {max-height: 200px;max-width: 100%;overflow: auto;}#sk-container-id-3 input.sk-toggleable__control:checked~label.sk-toggleable__label-arrow:before {content: \"▾\";}#sk-container-id-3 div.sk-estimator input.sk-toggleable__control:checked~label.sk-toggleable__label {background-color: #d4ebff;}#sk-container-id-3 div.sk-label input.sk-toggleable__control:checked~label.sk-toggleable__label {background-color: #d4ebff;}#sk-container-id-3 input.sk-hidden--visually {border: 0;clip: rect(1px 1px 1px 1px);clip: rect(1px, 1px, 1px, 1px);height: 1px;margin: -1px;overflow: hidden;padding: 0;position: absolute;width: 1px;}#sk-container-id-3 div.sk-estimator {font-family: monospace;background-color: #f0f8ff;border: 1px dotted black;border-radius: 0.25em;box-sizing: border-box;margin-bottom: 0.5em;}#sk-container-id-3 div.sk-estimator:hover {background-color: #d4ebff;}#sk-container-id-3 div.sk-parallel-item::after {content: \"\";width: 100%;border-bottom: 1px solid gray;flex-grow: 1;}#sk-container-id-3 div.sk-label:hover label.sk-toggleable__label {background-color: #d4ebff;}#sk-container-id-3 div.sk-serial::before {content: \"\";position: absolute;border-left: 1px solid gray;box-sizing: border-box;top: 0;bottom: 0;left: 50%;z-index: 0;}#sk-container-id-3 div.sk-serial {display: flex;flex-direction: column;align-items: center;background-color: white;padding-right: 0.2em;padding-left: 0.2em;position: relative;}#sk-container-id-3 div.sk-item {position: relative;z-index: 1;}#sk-container-id-3 div.sk-parallel {display: flex;align-items: stretch;justify-content: center;background-color: white;position: relative;}#sk-container-id-3 div.sk-item::before, #sk-container-id-3 div.sk-parallel-item::before {content: \"\";position: absolute;border-left: 1px solid gray;box-sizing: border-box;top: 0;bottom: 0;left: 50%;z-index: -1;}#sk-container-id-3 div.sk-parallel-item {display: flex;flex-direction: column;z-index: 1;position: relative;background-color: white;}#sk-container-id-3 div.sk-parallel-item:first-child::after {align-self: flex-end;width: 50%;}#sk-container-id-3 div.sk-parallel-item:last-child::after {align-self: flex-start;width: 50%;}#sk-container-id-3 div.sk-parallel-item:only-child::after {width: 0;}#sk-container-id-3 div.sk-dashed-wrapped {border: 1px dashed gray;margin: 0 0.4em 0.5em 0.4em;box-sizing: border-box;padding-bottom: 0.4em;background-color: white;}#sk-container-id-3 div.sk-label label {font-family: monospace;font-weight: bold;display: inline-block;line-height: 1.2em;}#sk-container-id-3 div.sk-label-container {text-align: center;}#sk-container-id-3 div.sk-container {/* jupyter's `normalize.less` sets `[hidden] { display: none; }` but bootstrap.min.css set `[hidden] { display: none !important; }` so we also need the `!important` here to be able to override the default hidden behavior on the sphinx rendered scikit-learn.org. See: https://github.com/scikit-learn/scikit-learn/issues/21755 */display: inline-block !important;position: relative;}#sk-container-id-3 div.sk-text-repr-fallback {display: none;}</style><div id=\"sk-container-id-3\" class=\"sk-top-container\"><div class=\"sk-text-repr-fallback\"><pre>GridSearchCV(cv=5,\n",
       "             estimator=Pipeline(steps=[(&#x27;scaler&#x27;, StandardScaler()),\n",
       "                                       (&#x27;tree_model&#x27;,\n",
       "                                        DecisionTreeClassifier())]),\n",
       "             param_grid={&#x27;tree_model__max_depth&#x27;: [None, 5, 10, 15, 20],\n",
       "                         &#x27;tree_model__min_samples_leaf&#x27;: [1, 2, 4],\n",
       "                         &#x27;tree_model__min_samples_split&#x27;: [2, 5, 10]},\n",
       "             scoring=&#x27;accuracy&#x27;)</pre><b>In a Jupyter environment, please rerun this cell to show the HTML representation or trust the notebook. <br />On GitHub, the HTML representation is unable to render, please try loading this page with nbviewer.org.</b></div><div class=\"sk-container\" hidden><div class=\"sk-item sk-dashed-wrapped\"><div class=\"sk-label-container\"><div class=\"sk-label sk-toggleable\"><input class=\"sk-toggleable__control sk-hidden--visually\" id=\"sk-estimator-id-9\" type=\"checkbox\" ><label for=\"sk-estimator-id-9\" class=\"sk-toggleable__label sk-toggleable__label-arrow\">GridSearchCV</label><div class=\"sk-toggleable__content\"><pre>GridSearchCV(cv=5,\n",
       "             estimator=Pipeline(steps=[(&#x27;scaler&#x27;, StandardScaler()),\n",
       "                                       (&#x27;tree_model&#x27;,\n",
       "                                        DecisionTreeClassifier())]),\n",
       "             param_grid={&#x27;tree_model__max_depth&#x27;: [None, 5, 10, 15, 20],\n",
       "                         &#x27;tree_model__min_samples_leaf&#x27;: [1, 2, 4],\n",
       "                         &#x27;tree_model__min_samples_split&#x27;: [2, 5, 10]},\n",
       "             scoring=&#x27;accuracy&#x27;)</pre></div></div></div><div class=\"sk-parallel\"><div class=\"sk-parallel-item\"><div class=\"sk-item\"><div class=\"sk-label-container\"><div class=\"sk-label sk-toggleable\"><input class=\"sk-toggleable__control sk-hidden--visually\" id=\"sk-estimator-id-10\" type=\"checkbox\" ><label for=\"sk-estimator-id-10\" class=\"sk-toggleable__label sk-toggleable__label-arrow\">estimator: Pipeline</label><div class=\"sk-toggleable__content\"><pre>Pipeline(steps=[(&#x27;scaler&#x27;, StandardScaler()),\n",
       "                (&#x27;tree_model&#x27;, DecisionTreeClassifier())])</pre></div></div></div><div class=\"sk-serial\"><div class=\"sk-item\"><div class=\"sk-serial\"><div class=\"sk-item\"><div class=\"sk-estimator sk-toggleable\"><input class=\"sk-toggleable__control sk-hidden--visually\" id=\"sk-estimator-id-11\" type=\"checkbox\" ><label for=\"sk-estimator-id-11\" class=\"sk-toggleable__label sk-toggleable__label-arrow\">StandardScaler</label><div class=\"sk-toggleable__content\"><pre>StandardScaler()</pre></div></div></div><div class=\"sk-item\"><div class=\"sk-estimator sk-toggleable\"><input class=\"sk-toggleable__control sk-hidden--visually\" id=\"sk-estimator-id-12\" type=\"checkbox\" ><label for=\"sk-estimator-id-12\" class=\"sk-toggleable__label sk-toggleable__label-arrow\">DecisionTreeClassifier</label><div class=\"sk-toggleable__content\"><pre>DecisionTreeClassifier()</pre></div></div></div></div></div></div></div></div></div></div></div></div>"
      ],
      "text/plain": [
       "GridSearchCV(cv=5,\n",
       "             estimator=Pipeline(steps=[('scaler', StandardScaler()),\n",
       "                                       ('tree_model',\n",
       "                                        DecisionTreeClassifier())]),\n",
       "             param_grid={'tree_model__max_depth': [None, 5, 10, 15, 20],\n",
       "                         'tree_model__min_samples_leaf': [1, 2, 4],\n",
       "                         'tree_model__min_samples_split': [2, 5, 10]},\n",
       "             scoring='accuracy')"
      ]
     },
     "execution_count": 28,
     "metadata": {},
     "output_type": "execute_result"
    }
   ],
   "source": [
    "# Создадим пайплайн для DecisionTreeClassifier\n",
    "# Определение операций для пайплайна\n",
    "scaler = StandardScaler()\n",
    "tree_model = DecisionTreeClassifier()\n",
    "operations_tree_model = [('scaler', scaler), ('tree_model', tree_model)]\n",
    "\n",
    "# Создание пайплайна\n",
    "pipe_tree_model = Pipeline(operations_tree_model)\n",
    "\n",
    "# Определение значений для поиска лучшего значения\n",
    "param_grid_tree = {\n",
    "    'tree_model__max_depth': [None, 5, 10, 15, 20],\n",
    "    'tree_model__min_samples_split': [2, 5, 10],\n",
    "    'tree_model__min_samples_leaf': [1, 2, 4]\n",
    "}\n",
    "\n",
    "# Инициализация GridSearchCV\n",
    "full_cv_classifier_tree_model = GridSearchCV(pipe_tree_model, param_grid_tree, cv=5, scoring='accuracy')\n",
    "\n",
    "# Обучение модели с помощью GridSearchCV\n",
    "full_cv_classifier_tree_model.fit(X_train, y_train)"
   ]
  },
  {
   "cell_type": "code",
   "execution_count": 29,
   "id": "f1f00fa6",
   "metadata": {
    "execution": {
     "iopub.execute_input": "2024-01-03T22:55:14.702442Z",
     "iopub.status.busy": "2024-01-03T22:55:14.701511Z",
     "iopub.status.idle": "2024-01-03T22:55:14.711658Z",
     "shell.execute_reply": "2024-01-03T22:55:14.710442Z"
    },
    "papermill": {
     "duration": 0.038969,
     "end_time": "2024-01-03T22:55:14.713955",
     "exception": false,
     "start_time": "2024-01-03T22:55:14.674986",
     "status": "completed"
    },
    "tags": []
   },
   "outputs": [
    {
     "data": {
      "text/plain": [
       "{'memory': None,\n",
       " 'steps': [('scaler', StandardScaler()),\n",
       "  ('tree_model', DecisionTreeClassifier(max_depth=5, min_samples_split=10))],\n",
       " 'verbose': False,\n",
       " 'scaler': StandardScaler(),\n",
       " 'tree_model': DecisionTreeClassifier(max_depth=5, min_samples_split=10),\n",
       " 'scaler__copy': True,\n",
       " 'scaler__with_mean': True,\n",
       " 'scaler__with_std': True,\n",
       " 'tree_model__ccp_alpha': 0.0,\n",
       " 'tree_model__class_weight': None,\n",
       " 'tree_model__criterion': 'gini',\n",
       " 'tree_model__max_depth': 5,\n",
       " 'tree_model__max_features': None,\n",
       " 'tree_model__max_leaf_nodes': None,\n",
       " 'tree_model__min_impurity_decrease': 0.0,\n",
       " 'tree_model__min_samples_leaf': 1,\n",
       " 'tree_model__min_samples_split': 10,\n",
       " 'tree_model__min_weight_fraction_leaf': 0.0,\n",
       " 'tree_model__random_state': None,\n",
       " 'tree_model__splitter': 'best'}"
      ]
     },
     "execution_count": 29,
     "metadata": {},
     "output_type": "execute_result"
    }
   ],
   "source": [
    "full_cv_classifier_tree_model.best_estimator_.get_params()"
   ]
  },
  {
   "cell_type": "code",
   "execution_count": 30,
   "id": "81b373ea",
   "metadata": {
    "execution": {
     "iopub.execute_input": "2024-01-03T22:55:14.766593Z",
     "iopub.status.busy": "2024-01-03T22:55:14.766098Z",
     "iopub.status.idle": "2024-01-03T22:56:02.799587Z",
     "shell.execute_reply": "2024-01-03T22:56:02.798368Z"
    },
    "papermill": {
     "duration": 48.089461,
     "end_time": "2024-01-03T22:56:02.827763",
     "exception": false,
     "start_time": "2024-01-03T22:55:14.738302",
     "status": "completed"
    },
    "tags": []
   },
   "outputs": [
    {
     "data": {
      "text/html": [
       "<style>#sk-container-id-4 {color: black;background-color: white;}#sk-container-id-4 pre{padding: 0;}#sk-container-id-4 div.sk-toggleable {background-color: white;}#sk-container-id-4 label.sk-toggleable__label {cursor: pointer;display: block;width: 100%;margin-bottom: 0;padding: 0.3em;box-sizing: border-box;text-align: center;}#sk-container-id-4 label.sk-toggleable__label-arrow:before {content: \"▸\";float: left;margin-right: 0.25em;color: #696969;}#sk-container-id-4 label.sk-toggleable__label-arrow:hover:before {color: black;}#sk-container-id-4 div.sk-estimator:hover label.sk-toggleable__label-arrow:before {color: black;}#sk-container-id-4 div.sk-toggleable__content {max-height: 0;max-width: 0;overflow: hidden;text-align: left;background-color: #f0f8ff;}#sk-container-id-4 div.sk-toggleable__content pre {margin: 0.2em;color: black;border-radius: 0.25em;background-color: #f0f8ff;}#sk-container-id-4 input.sk-toggleable__control:checked~div.sk-toggleable__content {max-height: 200px;max-width: 100%;overflow: auto;}#sk-container-id-4 input.sk-toggleable__control:checked~label.sk-toggleable__label-arrow:before {content: \"▾\";}#sk-container-id-4 div.sk-estimator input.sk-toggleable__control:checked~label.sk-toggleable__label {background-color: #d4ebff;}#sk-container-id-4 div.sk-label input.sk-toggleable__control:checked~label.sk-toggleable__label {background-color: #d4ebff;}#sk-container-id-4 input.sk-hidden--visually {border: 0;clip: rect(1px 1px 1px 1px);clip: rect(1px, 1px, 1px, 1px);height: 1px;margin: -1px;overflow: hidden;padding: 0;position: absolute;width: 1px;}#sk-container-id-4 div.sk-estimator {font-family: monospace;background-color: #f0f8ff;border: 1px dotted black;border-radius: 0.25em;box-sizing: border-box;margin-bottom: 0.5em;}#sk-container-id-4 div.sk-estimator:hover {background-color: #d4ebff;}#sk-container-id-4 div.sk-parallel-item::after {content: \"\";width: 100%;border-bottom: 1px solid gray;flex-grow: 1;}#sk-container-id-4 div.sk-label:hover label.sk-toggleable__label {background-color: #d4ebff;}#sk-container-id-4 div.sk-serial::before {content: \"\";position: absolute;border-left: 1px solid gray;box-sizing: border-box;top: 0;bottom: 0;left: 50%;z-index: 0;}#sk-container-id-4 div.sk-serial {display: flex;flex-direction: column;align-items: center;background-color: white;padding-right: 0.2em;padding-left: 0.2em;position: relative;}#sk-container-id-4 div.sk-item {position: relative;z-index: 1;}#sk-container-id-4 div.sk-parallel {display: flex;align-items: stretch;justify-content: center;background-color: white;position: relative;}#sk-container-id-4 div.sk-item::before, #sk-container-id-4 div.sk-parallel-item::before {content: \"\";position: absolute;border-left: 1px solid gray;box-sizing: border-box;top: 0;bottom: 0;left: 50%;z-index: -1;}#sk-container-id-4 div.sk-parallel-item {display: flex;flex-direction: column;z-index: 1;position: relative;background-color: white;}#sk-container-id-4 div.sk-parallel-item:first-child::after {align-self: flex-end;width: 50%;}#sk-container-id-4 div.sk-parallel-item:last-child::after {align-self: flex-start;width: 50%;}#sk-container-id-4 div.sk-parallel-item:only-child::after {width: 0;}#sk-container-id-4 div.sk-dashed-wrapped {border: 1px dashed gray;margin: 0 0.4em 0.5em 0.4em;box-sizing: border-box;padding-bottom: 0.4em;background-color: white;}#sk-container-id-4 div.sk-label label {font-family: monospace;font-weight: bold;display: inline-block;line-height: 1.2em;}#sk-container-id-4 div.sk-label-container {text-align: center;}#sk-container-id-4 div.sk-container {/* jupyter's `normalize.less` sets `[hidden] { display: none; }` but bootstrap.min.css set `[hidden] { display: none !important; }` so we also need the `!important` here to be able to override the default hidden behavior on the sphinx rendered scikit-learn.org. See: https://github.com/scikit-learn/scikit-learn/issues/21755 */display: inline-block !important;position: relative;}#sk-container-id-4 div.sk-text-repr-fallback {display: none;}</style><div id=\"sk-container-id-4\" class=\"sk-top-container\"><div class=\"sk-text-repr-fallback\"><pre>GridSearchCV(cv=5,\n",
       "             estimator=Pipeline(steps=[(&#x27;scaler&#x27;, StandardScaler()),\n",
       "                                       (&#x27;rf_model&#x27;, RandomForestClassifier())]),\n",
       "             param_grid={&#x27;rf_model__max_depth&#x27;: [None, 5, 10, 15],\n",
       "                         &#x27;rf_model__n_estimators&#x27;: [100, 300, 500]},\n",
       "             scoring=&#x27;accuracy&#x27;)</pre><b>In a Jupyter environment, please rerun this cell to show the HTML representation or trust the notebook. <br />On GitHub, the HTML representation is unable to render, please try loading this page with nbviewer.org.</b></div><div class=\"sk-container\" hidden><div class=\"sk-item sk-dashed-wrapped\"><div class=\"sk-label-container\"><div class=\"sk-label sk-toggleable\"><input class=\"sk-toggleable__control sk-hidden--visually\" id=\"sk-estimator-id-13\" type=\"checkbox\" ><label for=\"sk-estimator-id-13\" class=\"sk-toggleable__label sk-toggleable__label-arrow\">GridSearchCV</label><div class=\"sk-toggleable__content\"><pre>GridSearchCV(cv=5,\n",
       "             estimator=Pipeline(steps=[(&#x27;scaler&#x27;, StandardScaler()),\n",
       "                                       (&#x27;rf_model&#x27;, RandomForestClassifier())]),\n",
       "             param_grid={&#x27;rf_model__max_depth&#x27;: [None, 5, 10, 15],\n",
       "                         &#x27;rf_model__n_estimators&#x27;: [100, 300, 500]},\n",
       "             scoring=&#x27;accuracy&#x27;)</pre></div></div></div><div class=\"sk-parallel\"><div class=\"sk-parallel-item\"><div class=\"sk-item\"><div class=\"sk-label-container\"><div class=\"sk-label sk-toggleable\"><input class=\"sk-toggleable__control sk-hidden--visually\" id=\"sk-estimator-id-14\" type=\"checkbox\" ><label for=\"sk-estimator-id-14\" class=\"sk-toggleable__label sk-toggleable__label-arrow\">estimator: Pipeline</label><div class=\"sk-toggleable__content\"><pre>Pipeline(steps=[(&#x27;scaler&#x27;, StandardScaler()),\n",
       "                (&#x27;rf_model&#x27;, RandomForestClassifier())])</pre></div></div></div><div class=\"sk-serial\"><div class=\"sk-item\"><div class=\"sk-serial\"><div class=\"sk-item\"><div class=\"sk-estimator sk-toggleable\"><input class=\"sk-toggleable__control sk-hidden--visually\" id=\"sk-estimator-id-15\" type=\"checkbox\" ><label for=\"sk-estimator-id-15\" class=\"sk-toggleable__label sk-toggleable__label-arrow\">StandardScaler</label><div class=\"sk-toggleable__content\"><pre>StandardScaler()</pre></div></div></div><div class=\"sk-item\"><div class=\"sk-estimator sk-toggleable\"><input class=\"sk-toggleable__control sk-hidden--visually\" id=\"sk-estimator-id-16\" type=\"checkbox\" ><label for=\"sk-estimator-id-16\" class=\"sk-toggleable__label sk-toggleable__label-arrow\">RandomForestClassifier</label><div class=\"sk-toggleable__content\"><pre>RandomForestClassifier()</pre></div></div></div></div></div></div></div></div></div></div></div></div>"
      ],
      "text/plain": [
       "GridSearchCV(cv=5,\n",
       "             estimator=Pipeline(steps=[('scaler', StandardScaler()),\n",
       "                                       ('rf_model', RandomForestClassifier())]),\n",
       "             param_grid={'rf_model__max_depth': [None, 5, 10, 15],\n",
       "                         'rf_model__n_estimators': [100, 300, 500]},\n",
       "             scoring='accuracy')"
      ]
     },
     "execution_count": 30,
     "metadata": {},
     "output_type": "execute_result"
    }
   ],
   "source": [
    "# Создадим пайплайн для RandomForestClassifier\n",
    "# Определение операций для пайплайна\n",
    "scaler = StandardScaler()\n",
    "rf_model = RandomForestClassifier()\n",
    "operations_rf_model = [('scaler', scaler), ('rf_model', rf_model)]\n",
    "\n",
    "# Создание пайплайна\n",
    "pipe_rf_model = Pipeline(operations_rf_model)\n",
    "\n",
    "# Определение значений для поиска лучшего значения\n",
    "param_rf_model = {\n",
    "    'rf_model__n_estimators': [100, 300, 500],\n",
    "    'rf_model__max_depth': [None, 5, 10, 15],\n",
    "}\n",
    "\n",
    "# Инициализация GridSearchCV\n",
    "full_cv_classifier_rf_model = GridSearchCV(pipe_rf_model, param_rf_model, cv=5, scoring='accuracy')\n",
    "\n",
    "# Обучение модели с помощью GridSearchCV\n",
    "full_cv_classifier_rf_model.fit(X_train, y_train)"
   ]
  },
  {
   "cell_type": "code",
   "execution_count": 31,
   "id": "ce94ec48",
   "metadata": {
    "execution": {
     "iopub.execute_input": "2024-01-03T22:56:02.880991Z",
     "iopub.status.busy": "2024-01-03T22:56:02.879609Z",
     "iopub.status.idle": "2024-01-03T22:56:02.891440Z",
     "shell.execute_reply": "2024-01-03T22:56:02.889995Z"
    },
    "papermill": {
     "duration": 0.04104,
     "end_time": "2024-01-03T22:56:02.894083",
     "exception": false,
     "start_time": "2024-01-03T22:56:02.853043",
     "status": "completed"
    },
    "tags": []
   },
   "outputs": [
    {
     "data": {
      "text/plain": [
       "{'memory': None,\n",
       " 'steps': [('scaler', StandardScaler()),\n",
       "  ('rf_model', RandomForestClassifier(max_depth=5))],\n",
       " 'verbose': False,\n",
       " 'scaler': StandardScaler(),\n",
       " 'rf_model': RandomForestClassifier(max_depth=5),\n",
       " 'scaler__copy': True,\n",
       " 'scaler__with_mean': True,\n",
       " 'scaler__with_std': True,\n",
       " 'rf_model__bootstrap': True,\n",
       " 'rf_model__ccp_alpha': 0.0,\n",
       " 'rf_model__class_weight': None,\n",
       " 'rf_model__criterion': 'gini',\n",
       " 'rf_model__max_depth': 5,\n",
       " 'rf_model__max_features': 'sqrt',\n",
       " 'rf_model__max_leaf_nodes': None,\n",
       " 'rf_model__max_samples': None,\n",
       " 'rf_model__min_impurity_decrease': 0.0,\n",
       " 'rf_model__min_samples_leaf': 1,\n",
       " 'rf_model__min_samples_split': 2,\n",
       " 'rf_model__min_weight_fraction_leaf': 0.0,\n",
       " 'rf_model__n_estimators': 100,\n",
       " 'rf_model__n_jobs': None,\n",
       " 'rf_model__oob_score': False,\n",
       " 'rf_model__random_state': None,\n",
       " 'rf_model__verbose': 0,\n",
       " 'rf_model__warm_start': False}"
      ]
     },
     "execution_count": 31,
     "metadata": {},
     "output_type": "execute_result"
    }
   ],
   "source": [
    "full_cv_classifier_rf_model.best_estimator_.get_params()"
   ]
  },
  {
   "cell_type": "code",
   "execution_count": 32,
   "id": "722fb54a",
   "metadata": {
    "execution": {
     "iopub.execute_input": "2024-01-03T22:56:02.945656Z",
     "iopub.status.busy": "2024-01-03T22:56:02.945147Z",
     "iopub.status.idle": "2024-01-03T22:56:28.826211Z",
     "shell.execute_reply": "2024-01-03T22:56:28.824708Z"
    },
    "papermill": {
     "duration": 25.910053,
     "end_time": "2024-01-03T22:56:28.828719",
     "exception": false,
     "start_time": "2024-01-03T22:56:02.918666",
     "status": "completed"
    },
    "tags": []
   },
   "outputs": [
    {
     "data": {
      "text/html": [
       "<style>#sk-container-id-5 {color: black;background-color: white;}#sk-container-id-5 pre{padding: 0;}#sk-container-id-5 div.sk-toggleable {background-color: white;}#sk-container-id-5 label.sk-toggleable__label {cursor: pointer;display: block;width: 100%;margin-bottom: 0;padding: 0.3em;box-sizing: border-box;text-align: center;}#sk-container-id-5 label.sk-toggleable__label-arrow:before {content: \"▸\";float: left;margin-right: 0.25em;color: #696969;}#sk-container-id-5 label.sk-toggleable__label-arrow:hover:before {color: black;}#sk-container-id-5 div.sk-estimator:hover label.sk-toggleable__label-arrow:before {color: black;}#sk-container-id-5 div.sk-toggleable__content {max-height: 0;max-width: 0;overflow: hidden;text-align: left;background-color: #f0f8ff;}#sk-container-id-5 div.sk-toggleable__content pre {margin: 0.2em;color: black;border-radius: 0.25em;background-color: #f0f8ff;}#sk-container-id-5 input.sk-toggleable__control:checked~div.sk-toggleable__content {max-height: 200px;max-width: 100%;overflow: auto;}#sk-container-id-5 input.sk-toggleable__control:checked~label.sk-toggleable__label-arrow:before {content: \"▾\";}#sk-container-id-5 div.sk-estimator input.sk-toggleable__control:checked~label.sk-toggleable__label {background-color: #d4ebff;}#sk-container-id-5 div.sk-label input.sk-toggleable__control:checked~label.sk-toggleable__label {background-color: #d4ebff;}#sk-container-id-5 input.sk-hidden--visually {border: 0;clip: rect(1px 1px 1px 1px);clip: rect(1px, 1px, 1px, 1px);height: 1px;margin: -1px;overflow: hidden;padding: 0;position: absolute;width: 1px;}#sk-container-id-5 div.sk-estimator {font-family: monospace;background-color: #f0f8ff;border: 1px dotted black;border-radius: 0.25em;box-sizing: border-box;margin-bottom: 0.5em;}#sk-container-id-5 div.sk-estimator:hover {background-color: #d4ebff;}#sk-container-id-5 div.sk-parallel-item::after {content: \"\";width: 100%;border-bottom: 1px solid gray;flex-grow: 1;}#sk-container-id-5 div.sk-label:hover label.sk-toggleable__label {background-color: #d4ebff;}#sk-container-id-5 div.sk-serial::before {content: \"\";position: absolute;border-left: 1px solid gray;box-sizing: border-box;top: 0;bottom: 0;left: 50%;z-index: 0;}#sk-container-id-5 div.sk-serial {display: flex;flex-direction: column;align-items: center;background-color: white;padding-right: 0.2em;padding-left: 0.2em;position: relative;}#sk-container-id-5 div.sk-item {position: relative;z-index: 1;}#sk-container-id-5 div.sk-parallel {display: flex;align-items: stretch;justify-content: center;background-color: white;position: relative;}#sk-container-id-5 div.sk-item::before, #sk-container-id-5 div.sk-parallel-item::before {content: \"\";position: absolute;border-left: 1px solid gray;box-sizing: border-box;top: 0;bottom: 0;left: 50%;z-index: -1;}#sk-container-id-5 div.sk-parallel-item {display: flex;flex-direction: column;z-index: 1;position: relative;background-color: white;}#sk-container-id-5 div.sk-parallel-item:first-child::after {align-self: flex-end;width: 50%;}#sk-container-id-5 div.sk-parallel-item:last-child::after {align-self: flex-start;width: 50%;}#sk-container-id-5 div.sk-parallel-item:only-child::after {width: 0;}#sk-container-id-5 div.sk-dashed-wrapped {border: 1px dashed gray;margin: 0 0.4em 0.5em 0.4em;box-sizing: border-box;padding-bottom: 0.4em;background-color: white;}#sk-container-id-5 div.sk-label label {font-family: monospace;font-weight: bold;display: inline-block;line-height: 1.2em;}#sk-container-id-5 div.sk-label-container {text-align: center;}#sk-container-id-5 div.sk-container {/* jupyter's `normalize.less` sets `[hidden] { display: none; }` but bootstrap.min.css set `[hidden] { display: none !important; }` so we also need the `!important` here to be able to override the default hidden behavior on the sphinx rendered scikit-learn.org. See: https://github.com/scikit-learn/scikit-learn/issues/21755 */display: inline-block !important;position: relative;}#sk-container-id-5 div.sk-text-repr-fallback {display: none;}</style><div id=\"sk-container-id-5\" class=\"sk-top-container\"><div class=\"sk-text-repr-fallback\"><pre>GridSearchCV(cv=5,\n",
       "             estimator=Pipeline(steps=[(&#x27;scaler&#x27;, StandardScaler()),\n",
       "                                       (&#x27;gb_model&#x27;,\n",
       "                                        GradientBoostingClassifier())]),\n",
       "             param_grid={&#x27;gb_model__max_depth&#x27;: [3, 5, 7],\n",
       "                         &#x27;gb_model__n_estimators&#x27;: [100, 200, 300]},\n",
       "             scoring=&#x27;accuracy&#x27;)</pre><b>In a Jupyter environment, please rerun this cell to show the HTML representation or trust the notebook. <br />On GitHub, the HTML representation is unable to render, please try loading this page with nbviewer.org.</b></div><div class=\"sk-container\" hidden><div class=\"sk-item sk-dashed-wrapped\"><div class=\"sk-label-container\"><div class=\"sk-label sk-toggleable\"><input class=\"sk-toggleable__control sk-hidden--visually\" id=\"sk-estimator-id-17\" type=\"checkbox\" ><label for=\"sk-estimator-id-17\" class=\"sk-toggleable__label sk-toggleable__label-arrow\">GridSearchCV</label><div class=\"sk-toggleable__content\"><pre>GridSearchCV(cv=5,\n",
       "             estimator=Pipeline(steps=[(&#x27;scaler&#x27;, StandardScaler()),\n",
       "                                       (&#x27;gb_model&#x27;,\n",
       "                                        GradientBoostingClassifier())]),\n",
       "             param_grid={&#x27;gb_model__max_depth&#x27;: [3, 5, 7],\n",
       "                         &#x27;gb_model__n_estimators&#x27;: [100, 200, 300]},\n",
       "             scoring=&#x27;accuracy&#x27;)</pre></div></div></div><div class=\"sk-parallel\"><div class=\"sk-parallel-item\"><div class=\"sk-item\"><div class=\"sk-label-container\"><div class=\"sk-label sk-toggleable\"><input class=\"sk-toggleable__control sk-hidden--visually\" id=\"sk-estimator-id-18\" type=\"checkbox\" ><label for=\"sk-estimator-id-18\" class=\"sk-toggleable__label sk-toggleable__label-arrow\">estimator: Pipeline</label><div class=\"sk-toggleable__content\"><pre>Pipeline(steps=[(&#x27;scaler&#x27;, StandardScaler()),\n",
       "                (&#x27;gb_model&#x27;, GradientBoostingClassifier())])</pre></div></div></div><div class=\"sk-serial\"><div class=\"sk-item\"><div class=\"sk-serial\"><div class=\"sk-item\"><div class=\"sk-estimator sk-toggleable\"><input class=\"sk-toggleable__control sk-hidden--visually\" id=\"sk-estimator-id-19\" type=\"checkbox\" ><label for=\"sk-estimator-id-19\" class=\"sk-toggleable__label sk-toggleable__label-arrow\">StandardScaler</label><div class=\"sk-toggleable__content\"><pre>StandardScaler()</pre></div></div></div><div class=\"sk-item\"><div class=\"sk-estimator sk-toggleable\"><input class=\"sk-toggleable__control sk-hidden--visually\" id=\"sk-estimator-id-20\" type=\"checkbox\" ><label for=\"sk-estimator-id-20\" class=\"sk-toggleable__label sk-toggleable__label-arrow\">GradientBoostingClassifier</label><div class=\"sk-toggleable__content\"><pre>GradientBoostingClassifier()</pre></div></div></div></div></div></div></div></div></div></div></div></div>"
      ],
      "text/plain": [
       "GridSearchCV(cv=5,\n",
       "             estimator=Pipeline(steps=[('scaler', StandardScaler()),\n",
       "                                       ('gb_model',\n",
       "                                        GradientBoostingClassifier())]),\n",
       "             param_grid={'gb_model__max_depth': [3, 5, 7],\n",
       "                         'gb_model__n_estimators': [100, 200, 300]},\n",
       "             scoring='accuracy')"
      ]
     },
     "execution_count": 32,
     "metadata": {},
     "output_type": "execute_result"
    }
   ],
   "source": [
    "# Создадим пайплайн для GradientBoostingClassifier\n",
    "# Определение операций для пайплайна\n",
    "scaler = StandardScaler()\n",
    "gb_model = GradientBoostingClassifier()\n",
    "operations_gb_model = [('scaler', scaler), ('gb_model', gb_model)]\n",
    "\n",
    "# Создание пайплайна\n",
    "pipe_gb_model = Pipeline(operations_gb_model)\n",
    "\n",
    "# Определение значений для поиска лучшего значения\n",
    "param_gb_model = {\n",
    "    'gb_model__n_estimators': [100, 200, 300],\n",
    "    'gb_model__max_depth': [3, 5, 7]\n",
    "}\n",
    "\n",
    "# Инициализация GridSearchCV\n",
    "full_cv_classifier_gb_model = GridSearchCV(pipe_gb_model, param_gb_model, cv=5, scoring='accuracy')\n",
    "\n",
    "# Обучение модели с помощью GridSearchCV\n",
    "full_cv_classifier_gb_model.fit(X_train, y_train)"
   ]
  },
  {
   "cell_type": "code",
   "execution_count": 33,
   "id": "47275ed9",
   "metadata": {
    "execution": {
     "iopub.execute_input": "2024-01-03T22:56:28.881758Z",
     "iopub.status.busy": "2024-01-03T22:56:28.881232Z",
     "iopub.status.idle": "2024-01-03T22:56:28.892424Z",
     "shell.execute_reply": "2024-01-03T22:56:28.890992Z"
    },
    "papermill": {
     "duration": 0.040864,
     "end_time": "2024-01-03T22:56:28.895007",
     "exception": false,
     "start_time": "2024-01-03T22:56:28.854143",
     "status": "completed"
    },
    "tags": []
   },
   "outputs": [
    {
     "data": {
      "text/plain": [
       "{'memory': None,\n",
       " 'steps': [('scaler', StandardScaler()),\n",
       "  ('gb_model', GradientBoostingClassifier(n_estimators=300))],\n",
       " 'verbose': False,\n",
       " 'scaler': StandardScaler(),\n",
       " 'gb_model': GradientBoostingClassifier(n_estimators=300),\n",
       " 'scaler__copy': True,\n",
       " 'scaler__with_mean': True,\n",
       " 'scaler__with_std': True,\n",
       " 'gb_model__ccp_alpha': 0.0,\n",
       " 'gb_model__criterion': 'friedman_mse',\n",
       " 'gb_model__init': None,\n",
       " 'gb_model__learning_rate': 0.1,\n",
       " 'gb_model__loss': 'log_loss',\n",
       " 'gb_model__max_depth': 3,\n",
       " 'gb_model__max_features': None,\n",
       " 'gb_model__max_leaf_nodes': None,\n",
       " 'gb_model__min_impurity_decrease': 0.0,\n",
       " 'gb_model__min_samples_leaf': 1,\n",
       " 'gb_model__min_samples_split': 2,\n",
       " 'gb_model__min_weight_fraction_leaf': 0.0,\n",
       " 'gb_model__n_estimators': 300,\n",
       " 'gb_model__n_iter_no_change': None,\n",
       " 'gb_model__random_state': None,\n",
       " 'gb_model__subsample': 1.0,\n",
       " 'gb_model__tol': 0.0001,\n",
       " 'gb_model__validation_fraction': 0.1,\n",
       " 'gb_model__verbose': 0,\n",
       " 'gb_model__warm_start': False}"
      ]
     },
     "execution_count": 33,
     "metadata": {},
     "output_type": "execute_result"
    }
   ],
   "source": [
    "full_cv_classifier_gb_model.best_estimator_.get_params()"
   ]
  },
  {
   "cell_type": "code",
   "execution_count": 34,
   "id": "c3eb9443",
   "metadata": {
    "execution": {
     "iopub.execute_input": "2024-01-03T22:56:28.949555Z",
     "iopub.status.busy": "2024-01-03T22:56:28.948316Z",
     "iopub.status.idle": "2024-01-03T22:56:30.697788Z",
     "shell.execute_reply": "2024-01-03T22:56:30.696489Z"
    },
    "papermill": {
     "duration": 1.780078,
     "end_time": "2024-01-03T22:56:30.701014",
     "exception": false,
     "start_time": "2024-01-03T22:56:28.920936",
     "status": "completed"
    },
    "tags": []
   },
   "outputs": [
    {
     "data": {
      "text/html": [
       "<style>#sk-container-id-6 {color: black;background-color: white;}#sk-container-id-6 pre{padding: 0;}#sk-container-id-6 div.sk-toggleable {background-color: white;}#sk-container-id-6 label.sk-toggleable__label {cursor: pointer;display: block;width: 100%;margin-bottom: 0;padding: 0.3em;box-sizing: border-box;text-align: center;}#sk-container-id-6 label.sk-toggleable__label-arrow:before {content: \"▸\";float: left;margin-right: 0.25em;color: #696969;}#sk-container-id-6 label.sk-toggleable__label-arrow:hover:before {color: black;}#sk-container-id-6 div.sk-estimator:hover label.sk-toggleable__label-arrow:before {color: black;}#sk-container-id-6 div.sk-toggleable__content {max-height: 0;max-width: 0;overflow: hidden;text-align: left;background-color: #f0f8ff;}#sk-container-id-6 div.sk-toggleable__content pre {margin: 0.2em;color: black;border-radius: 0.25em;background-color: #f0f8ff;}#sk-container-id-6 input.sk-toggleable__control:checked~div.sk-toggleable__content {max-height: 200px;max-width: 100%;overflow: auto;}#sk-container-id-6 input.sk-toggleable__control:checked~label.sk-toggleable__label-arrow:before {content: \"▾\";}#sk-container-id-6 div.sk-estimator input.sk-toggleable__control:checked~label.sk-toggleable__label {background-color: #d4ebff;}#sk-container-id-6 div.sk-label input.sk-toggleable__control:checked~label.sk-toggleable__label {background-color: #d4ebff;}#sk-container-id-6 input.sk-hidden--visually {border: 0;clip: rect(1px 1px 1px 1px);clip: rect(1px, 1px, 1px, 1px);height: 1px;margin: -1px;overflow: hidden;padding: 0;position: absolute;width: 1px;}#sk-container-id-6 div.sk-estimator {font-family: monospace;background-color: #f0f8ff;border: 1px dotted black;border-radius: 0.25em;box-sizing: border-box;margin-bottom: 0.5em;}#sk-container-id-6 div.sk-estimator:hover {background-color: #d4ebff;}#sk-container-id-6 div.sk-parallel-item::after {content: \"\";width: 100%;border-bottom: 1px solid gray;flex-grow: 1;}#sk-container-id-6 div.sk-label:hover label.sk-toggleable__label {background-color: #d4ebff;}#sk-container-id-6 div.sk-serial::before {content: \"\";position: absolute;border-left: 1px solid gray;box-sizing: border-box;top: 0;bottom: 0;left: 50%;z-index: 0;}#sk-container-id-6 div.sk-serial {display: flex;flex-direction: column;align-items: center;background-color: white;padding-right: 0.2em;padding-left: 0.2em;position: relative;}#sk-container-id-6 div.sk-item {position: relative;z-index: 1;}#sk-container-id-6 div.sk-parallel {display: flex;align-items: stretch;justify-content: center;background-color: white;position: relative;}#sk-container-id-6 div.sk-item::before, #sk-container-id-6 div.sk-parallel-item::before {content: \"\";position: absolute;border-left: 1px solid gray;box-sizing: border-box;top: 0;bottom: 0;left: 50%;z-index: -1;}#sk-container-id-6 div.sk-parallel-item {display: flex;flex-direction: column;z-index: 1;position: relative;background-color: white;}#sk-container-id-6 div.sk-parallel-item:first-child::after {align-self: flex-end;width: 50%;}#sk-container-id-6 div.sk-parallel-item:last-child::after {align-self: flex-start;width: 50%;}#sk-container-id-6 div.sk-parallel-item:only-child::after {width: 0;}#sk-container-id-6 div.sk-dashed-wrapped {border: 1px dashed gray;margin: 0 0.4em 0.5em 0.4em;box-sizing: border-box;padding-bottom: 0.4em;background-color: white;}#sk-container-id-6 div.sk-label label {font-family: monospace;font-weight: bold;display: inline-block;line-height: 1.2em;}#sk-container-id-6 div.sk-label-container {text-align: center;}#sk-container-id-6 div.sk-container {/* jupyter's `normalize.less` sets `[hidden] { display: none; }` but bootstrap.min.css set `[hidden] { display: none !important; }` so we also need the `!important` here to be able to override the default hidden behavior on the sphinx rendered scikit-learn.org. See: https://github.com/scikit-learn/scikit-learn/issues/21755 */display: inline-block !important;position: relative;}#sk-container-id-6 div.sk-text-repr-fallback {display: none;}</style><div id=\"sk-container-id-6\" class=\"sk-top-container\"><div class=\"sk-text-repr-fallback\"><pre>GridSearchCV(cv=5,\n",
       "             estimator=Pipeline(steps=[(&#x27;scaler&#x27;, StandardScaler()),\n",
       "                                       (&#x27;svc_model&#x27;, SVC())]),\n",
       "             param_grid={&#x27;svc_model__C&#x27;: [0.1, 1, 10],\n",
       "                         &#x27;svc_model__gamma&#x27;: [&#x27;scale&#x27;, &#x27;auto&#x27;],\n",
       "                         &#x27;svc_model__kernel&#x27;: [&#x27;linear&#x27;, &#x27;rbf&#x27;]},\n",
       "             scoring=&#x27;accuracy&#x27;)</pre><b>In a Jupyter environment, please rerun this cell to show the HTML representation or trust the notebook. <br />On GitHub, the HTML representation is unable to render, please try loading this page with nbviewer.org.</b></div><div class=\"sk-container\" hidden><div class=\"sk-item sk-dashed-wrapped\"><div class=\"sk-label-container\"><div class=\"sk-label sk-toggleable\"><input class=\"sk-toggleable__control sk-hidden--visually\" id=\"sk-estimator-id-21\" type=\"checkbox\" ><label for=\"sk-estimator-id-21\" class=\"sk-toggleable__label sk-toggleable__label-arrow\">GridSearchCV</label><div class=\"sk-toggleable__content\"><pre>GridSearchCV(cv=5,\n",
       "             estimator=Pipeline(steps=[(&#x27;scaler&#x27;, StandardScaler()),\n",
       "                                       (&#x27;svc_model&#x27;, SVC())]),\n",
       "             param_grid={&#x27;svc_model__C&#x27;: [0.1, 1, 10],\n",
       "                         &#x27;svc_model__gamma&#x27;: [&#x27;scale&#x27;, &#x27;auto&#x27;],\n",
       "                         &#x27;svc_model__kernel&#x27;: [&#x27;linear&#x27;, &#x27;rbf&#x27;]},\n",
       "             scoring=&#x27;accuracy&#x27;)</pre></div></div></div><div class=\"sk-parallel\"><div class=\"sk-parallel-item\"><div class=\"sk-item\"><div class=\"sk-label-container\"><div class=\"sk-label sk-toggleable\"><input class=\"sk-toggleable__control sk-hidden--visually\" id=\"sk-estimator-id-22\" type=\"checkbox\" ><label for=\"sk-estimator-id-22\" class=\"sk-toggleable__label sk-toggleable__label-arrow\">estimator: Pipeline</label><div class=\"sk-toggleable__content\"><pre>Pipeline(steps=[(&#x27;scaler&#x27;, StandardScaler()), (&#x27;svc_model&#x27;, SVC())])</pre></div></div></div><div class=\"sk-serial\"><div class=\"sk-item\"><div class=\"sk-serial\"><div class=\"sk-item\"><div class=\"sk-estimator sk-toggleable\"><input class=\"sk-toggleable__control sk-hidden--visually\" id=\"sk-estimator-id-23\" type=\"checkbox\" ><label for=\"sk-estimator-id-23\" class=\"sk-toggleable__label sk-toggleable__label-arrow\">StandardScaler</label><div class=\"sk-toggleable__content\"><pre>StandardScaler()</pre></div></div></div><div class=\"sk-item\"><div class=\"sk-estimator sk-toggleable\"><input class=\"sk-toggleable__control sk-hidden--visually\" id=\"sk-estimator-id-24\" type=\"checkbox\" ><label for=\"sk-estimator-id-24\" class=\"sk-toggleable__label sk-toggleable__label-arrow\">SVC</label><div class=\"sk-toggleable__content\"><pre>SVC()</pre></div></div></div></div></div></div></div></div></div></div></div></div>"
      ],
      "text/plain": [
       "GridSearchCV(cv=5,\n",
       "             estimator=Pipeline(steps=[('scaler', StandardScaler()),\n",
       "                                       ('svc_model', SVC())]),\n",
       "             param_grid={'svc_model__C': [0.1, 1, 10],\n",
       "                         'svc_model__gamma': ['scale', 'auto'],\n",
       "                         'svc_model__kernel': ['linear', 'rbf']},\n",
       "             scoring='accuracy')"
      ]
     },
     "execution_count": 34,
     "metadata": {},
     "output_type": "execute_result"
    }
   ],
   "source": [
    "# Создадим пайплайн для GradientBoostingClassifier\n",
    "# Определение операций для пайплайна\n",
    "scaler = StandardScaler()\n",
    "svc_model = SVC()\n",
    "operations_svc_model = [('scaler', scaler), ('svc_model', svc_model)]\n",
    "\n",
    "# Создание пайплайна\n",
    "pipe_svc_model = Pipeline(operations_svc_model)\n",
    "\n",
    "# Определение значений для поиска лучшего значения\n",
    "param_svc_model = {\n",
    "    'svc_model__C': [0.1, 1, 10],\n",
    "    'svc_model__kernel': ['linear', 'rbf'],\n",
    "    'svc_model__gamma': ['scale', 'auto']\n",
    "}\n",
    "\n",
    "# Инициализация GridSearchCV\n",
    "full_cv_classifier_svc_model = GridSearchCV(pipe_svc_model, param_svc_model, cv=5, scoring='accuracy')\n",
    "\n",
    "# Обучение модели с помощью GridSearchCV\n",
    "full_cv_classifier_svc_model.fit(X_train, y_train)"
   ]
  },
  {
   "cell_type": "code",
   "execution_count": 35,
   "id": "b750edf6",
   "metadata": {
    "execution": {
     "iopub.execute_input": "2024-01-03T22:56:30.753997Z",
     "iopub.status.busy": "2024-01-03T22:56:30.753489Z",
     "iopub.status.idle": "2024-01-03T22:56:30.763449Z",
     "shell.execute_reply": "2024-01-03T22:56:30.762315Z"
    },
    "papermill": {
     "duration": 0.039718,
     "end_time": "2024-01-03T22:56:30.765941",
     "exception": false,
     "start_time": "2024-01-03T22:56:30.726223",
     "status": "completed"
    },
    "tags": []
   },
   "outputs": [
    {
     "data": {
      "text/plain": [
       "{'memory': None,\n",
       " 'steps': [('scaler', StandardScaler()), ('svc_model', SVC(C=1))],\n",
       " 'verbose': False,\n",
       " 'scaler': StandardScaler(),\n",
       " 'svc_model': SVC(C=1),\n",
       " 'scaler__copy': True,\n",
       " 'scaler__with_mean': True,\n",
       " 'scaler__with_std': True,\n",
       " 'svc_model__C': 1,\n",
       " 'svc_model__break_ties': False,\n",
       " 'svc_model__cache_size': 200,\n",
       " 'svc_model__class_weight': None,\n",
       " 'svc_model__coef0': 0.0,\n",
       " 'svc_model__decision_function_shape': 'ovr',\n",
       " 'svc_model__degree': 3,\n",
       " 'svc_model__gamma': 'scale',\n",
       " 'svc_model__kernel': 'rbf',\n",
       " 'svc_model__max_iter': -1,\n",
       " 'svc_model__probability': False,\n",
       " 'svc_model__random_state': None,\n",
       " 'svc_model__shrinking': True,\n",
       " 'svc_model__tol': 0.001,\n",
       " 'svc_model__verbose': False}"
      ]
     },
     "execution_count": 35,
     "metadata": {},
     "output_type": "execute_result"
    }
   ],
   "source": [
    "full_cv_classifier_svc_model.best_estimator_.get_params()"
   ]
  },
  {
   "cell_type": "code",
   "execution_count": 36,
   "id": "a93e013e",
   "metadata": {
    "execution": {
     "iopub.execute_input": "2024-01-03T22:56:30.818827Z",
     "iopub.status.busy": "2024-01-03T22:56:30.818332Z",
     "iopub.status.idle": "2024-01-03T22:56:31.118275Z",
     "shell.execute_reply": "2024-01-03T22:56:31.116876Z"
    },
    "papermill": {
     "duration": 0.329531,
     "end_time": "2024-01-03T22:56:31.120951",
     "exception": false,
     "start_time": "2024-01-03T22:56:30.791420",
     "status": "completed"
    },
    "tags": []
   },
   "outputs": [
    {
     "name": "stdout",
     "output_type": "stream",
     "text": [
      "Accuracy: 0.8222222222222222\n",
      "Confusion Matrix:\n",
      "[[45  9]\n",
      " [ 7 29]]\n",
      "Classification Report:\n",
      "              precision    recall  f1-score   support\n",
      "\n",
      "           0       0.87      0.83      0.85        54\n",
      "           1       0.76      0.81      0.78        36\n",
      "\n",
      "    accuracy                           0.82        90\n",
      "   macro avg       0.81      0.82      0.82        90\n",
      "weighted avg       0.82      0.82      0.82        90\n",
      "\n"
     ]
    },
    {
     "data": {
      "image/png": "[encoded data removed]",
      "text/plain": [
       "<Figure size 800x600 with 1 Axes>"
      ]
     },
     "metadata": {},
     "output_type": "display_data"
    }
   ],
   "source": [
    "# Визумализируем результаты для каждой из моделей\n",
    "prediction_function(full_cv_classifier_gb_model)"
   ]
  },
  {
   "cell_type": "code",
   "execution_count": 37,
   "id": "e27db71c",
   "metadata": {
    "execution": {
     "iopub.execute_input": "2024-01-03T22:56:31.177526Z",
     "iopub.status.busy": "2024-01-03T22:56:31.176159Z",
     "iopub.status.idle": "2024-01-03T22:56:31.477573Z",
     "shell.execute_reply": "2024-01-03T22:56:31.476152Z"
    },
    "papermill": {
     "duration": 0.332495,
     "end_time": "2024-01-03T22:56:31.480600",
     "exception": false,
     "start_time": "2024-01-03T22:56:31.148105",
     "status": "completed"
    },
    "tags": []
   },
   "outputs": [
    {
     "name": "stdout",
     "output_type": "stream",
     "text": [
      "Accuracy: 0.8444444444444444\n",
      "Confusion Matrix:\n",
      "[[48  6]\n",
      " [ 8 28]]\n",
      "Classification Report:\n",
      "              precision    recall  f1-score   support\n",
      "\n",
      "           0       0.86      0.89      0.87        54\n",
      "           1       0.82      0.78      0.80        36\n",
      "\n",
      "    accuracy                           0.84        90\n",
      "   macro avg       0.84      0.83      0.84        90\n",
      "weighted avg       0.84      0.84      0.84        90\n",
      "\n"
     ]
    },
    {
     "data": {
      "image/png": "[encoded data removed]",
      "text/plain": [
       "<Figure size 800x600 with 1 Axes>"
      ]
     },
     "metadata": {},
     "output_type": "display_data"
    }
   ],
   "source": [
    "# Визумализируем результаты для каждой из моделей\n",
    "prediction_function(full_cv_classifier_knn)"
   ]
  },
  {
   "cell_type": "code",
   "execution_count": 38,
   "id": "d54ee7eb",
   "metadata": {
    "execution": {
     "iopub.execute_input": "2024-01-03T22:56:31.537325Z",
     "iopub.status.busy": "2024-01-03T22:56:31.536883Z",
     "iopub.status.idle": "2024-01-03T22:56:31.829303Z",
     "shell.execute_reply": "2024-01-03T22:56:31.827818Z"
    },
    "papermill": {
     "duration": 0.324606,
     "end_time": "2024-01-03T22:56:31.832580",
     "exception": false,
     "start_time": "2024-01-03T22:56:31.507974",
     "status": "completed"
    },
    "tags": []
   },
   "outputs": [
    {
     "name": "stdout",
     "output_type": "stream",
     "text": [
      "Accuracy: 0.8444444444444444\n",
      "Confusion Matrix:\n",
      "[[48  6]\n",
      " [ 8 28]]\n",
      "Classification Report:\n",
      "              precision    recall  f1-score   support\n",
      "\n",
      "           0       0.86      0.89      0.87        54\n",
      "           1       0.82      0.78      0.80        36\n",
      "\n",
      "    accuracy                           0.84        90\n",
      "   macro avg       0.84      0.83      0.84        90\n",
      "weighted avg       0.84      0.84      0.84        90\n",
      "\n"
     ]
    },
    {
     "data": {
      "image/png": "[encoded data removed]",
      "text/plain": [
       "<Figure size 800x600 with 1 Axes>"
      ]
     },
     "metadata": {},
     "output_type": "display_data"
    }
   ],
   "source": [
    "# Визумализируем результаты для каждой из моделей\n",
    "prediction_function(full_cv_classifier_log_model)"
   ]
  },
  {
   "cell_type": "code",
   "execution_count": 39,
   "id": "2a68ff1b",
   "metadata": {
    "execution": {
     "iopub.execute_input": "2024-01-03T22:56:31.892742Z",
     "iopub.status.busy": "2024-01-03T22:56:31.892252Z",
     "iopub.status.idle": "2024-01-03T22:56:32.191512Z",
     "shell.execute_reply": "2024-01-03T22:56:32.190281Z"
    },
    "papermill": {
     "duration": 0.332655,
     "end_time": "2024-01-03T22:56:32.194340",
     "exception": false,
     "start_time": "2024-01-03T22:56:31.861685",
     "status": "completed"
    },
    "tags": []
   },
   "outputs": [
    {
     "name": "stdout",
     "output_type": "stream",
     "text": [
      "Accuracy: 0.8333333333333334\n",
      "Confusion Matrix:\n",
      "[[48  6]\n",
      " [ 9 27]]\n",
      "Classification Report:\n",
      "              precision    recall  f1-score   support\n",
      "\n",
      "           0       0.84      0.89      0.86        54\n",
      "           1       0.82      0.75      0.78        36\n",
      "\n",
      "    accuracy                           0.83        90\n",
      "   macro avg       0.83      0.82      0.82        90\n",
      "weighted avg       0.83      0.83      0.83        90\n",
      "\n"
     ]
    },
    {
     "data": {
      "image/png": "[encoded data removed]",
      "text/plain": [
       "<Figure size 800x600 with 1 Axes>"
      ]
     },
     "metadata": {},
     "output_type": "display_data"
    }
   ],
   "source": [
    "# Визумализируем результаты для каждой из моделей\n",
    "prediction_function(full_cv_classifier_rf_model)"
   ]
  },
  {
   "cell_type": "code",
   "execution_count": 40,
   "id": "0754bfe0",
   "metadata": {
    "execution": {
     "iopub.execute_input": "2024-01-03T22:56:32.257628Z",
     "iopub.status.busy": "2024-01-03T22:56:32.257166Z",
     "iopub.status.idle": "2024-01-03T22:56:32.280790Z",
     "shell.execute_reply": "2024-01-03T22:56:32.279088Z"
    },
    "papermill": {
     "duration": 0.059241,
     "end_time": "2024-01-03T22:56:32.283754",
     "exception": false,
     "start_time": "2024-01-03T22:56:32.224513",
     "status": "completed"
    },
    "tags": []
   },
   "outputs": [
    {
     "name": "stdout",
     "output_type": "stream",
     "text": [
      "Accuracy: 0.8333333333333334\n",
      "Confusion Matrix:\n",
      "[[48  6]\n",
      " [ 9 27]]\n",
      "Classification Report:\n",
      "              precision    recall  f1-score   support\n",
      "\n",
      "           0       0.84      0.89      0.86        54\n",
      "           1       0.82      0.75      0.78        36\n",
      "\n",
      "    accuracy                           0.83        90\n",
      "   macro avg       0.83      0.82      0.82        90\n",
      "weighted avg       0.83      0.83      0.83        90\n",
      "\n",
      "Модель не поддерживает предсказание вероятности.\n"
     ]
    }
   ],
   "source": [
    "# Визумализируем результаты для каждой из моделей\n",
    "prediction_function(full_cv_classifier_svc_model)"
   ]
  },
  {
   "cell_type": "code",
   "execution_count": 41,
   "id": "a17f239d",
   "metadata": {
    "execution": {
     "iopub.execute_input": "2024-01-03T22:56:32.346572Z",
     "iopub.status.busy": "2024-01-03T22:56:32.345182Z",
     "iopub.status.idle": "2024-01-03T22:56:32.656674Z",
     "shell.execute_reply": "2024-01-03T22:56:32.655077Z"
    },
    "papermill": {
     "duration": 0.345496,
     "end_time": "2024-01-03T22:56:32.659391",
     "exception": false,
     "start_time": "2024-01-03T22:56:32.313895",
     "status": "completed"
    },
    "tags": []
   },
   "outputs": [
    {
     "name": "stdout",
     "output_type": "stream",
     "text": [
      "Accuracy: 0.7666666666666667\n",
      "Confusion Matrix:\n",
      "[[49  5]\n",
      " [16 20]]\n",
      "Classification Report:\n",
      "              precision    recall  f1-score   support\n",
      "\n",
      "           0       0.75      0.91      0.82        54\n",
      "           1       0.80      0.56      0.66        36\n",
      "\n",
      "    accuracy                           0.77        90\n",
      "   macro avg       0.78      0.73      0.74        90\n",
      "weighted avg       0.77      0.77      0.76        90\n",
      "\n"
     ]
    },
    {
     "data": {
      "image/png": "[encoded data removed]",
      "text/plain": [
       "<Figure size 800x600 with 1 Axes>"
      ]
     },
     "metadata": {},
     "output_type": "display_data"
    }
   ],
   "source": [
    "# Визумализируем результаты для каждой из моделей\n",
    "prediction_function(full_cv_classifier_tree_model)"
   ]
  },
  {
   "cell_type": "code",
   "execution_count": 42,
   "id": "6a4fe081",
   "metadata": {
    "execution": {
     "iopub.execute_input": "2024-01-03T22:56:32.723653Z",
     "iopub.status.busy": "2024-01-03T22:56:32.723200Z",
     "iopub.status.idle": "2024-01-03T22:56:32.734796Z",
     "shell.execute_reply": "2024-01-03T22:56:32.733421Z"
    },
    "papermill": {
     "duration": 0.046725,
     "end_time": "2024-01-03T22:56:32.737568",
     "exception": false,
     "start_time": "2024-01-03T22:56:32.690843",
     "status": "completed"
    },
    "tags": []
   },
   "outputs": [],
   "source": [
    "# Проанализировав полученные результаты точности для исследуемых моделей, перейдём к формированию ответов на поставленную задачу\n",
    "\n",
    "final_test = test.drop(['PassengerId', 'Name', 'Ticket', 'Cabin', 'Embarked'], axis = 1)\n",
    "\n",
    "final_predictions_log_model = full_cv_classifier_log_model.best_estimator_.predict(final_test)"
   ]
  },
  {
   "cell_type": "code",
   "execution_count": 43,
   "id": "603dc9fa",
   "metadata": {
    "execution": {
     "iopub.execute_input": "2024-01-03T22:56:32.801176Z",
     "iopub.status.busy": "2024-01-03T22:56:32.800732Z",
     "iopub.status.idle": "2024-01-03T22:56:32.811095Z",
     "shell.execute_reply": "2024-01-03T22:56:32.809603Z"
    },
    "papermill": {
     "duration": 0.045577,
     "end_time": "2024-01-03T22:56:32.813936",
     "exception": false,
     "start_time": "2024-01-03T22:56:32.768359",
     "status": "completed"
    },
    "tags": []
   },
   "outputs": [],
   "source": [
    "# Формируем результаты\n",
    "result = pd.DataFrame(columns=['PassengerId', 'Survived'])\n",
    "result['PassengerId'] = test['PassengerId']\n",
    "result['Survived'] = final_predictions_log_model\n",
    "\n",
    "result = result.set_index('PassengerId')"
   ]
  },
  {
   "cell_type": "code",
   "execution_count": 44,
   "id": "94ad6bfc",
   "metadata": {
    "execution": {
     "iopub.execute_input": "2024-01-03T22:56:32.877070Z",
     "iopub.status.busy": "2024-01-03T22:56:32.876620Z",
     "iopub.status.idle": "2024-01-03T22:56:32.888589Z",
     "shell.execute_reply": "2024-01-03T22:56:32.887556Z"
    },
    "papermill": {
     "duration": 0.047013,
     "end_time": "2024-01-03T22:56:32.891375",
     "exception": false,
     "start_time": "2024-01-03T22:56:32.844362",
     "status": "completed"
    },
    "tags": []
   },
   "outputs": [
    {
     "data": {
      "text/html": [
       "<div>\n",
       "<style scoped>\n",
       "    .dataframe tbody tr th:only-of-type {\n",
       "        vertical-align: middle;\n",
       "    }\n",
       "\n",
       "    .dataframe tbody tr th {\n",
       "        vertical-align: top;\n",
       "    }\n",
       "\n",
       "    .dataframe thead th {\n",
       "        text-align: right;\n",
       "    }\n",
       "</style>\n",
       "<table border=\"1\" class=\"dataframe\">\n",
       "  <thead>\n",
       "    <tr style=\"text-align: right;\">\n",
       "      <th></th>\n",
       "      <th>Survived</th>\n",
       "    </tr>\n",
       "    <tr>\n",
       "      <th>PassengerId</th>\n",
       "      <th></th>\n",
       "    </tr>\n",
       "  </thead>\n",
       "  <tbody>\n",
       "    <tr>\n",
       "      <th>892</th>\n",
       "      <td>0</td>\n",
       "    </tr>\n",
       "    <tr>\n",
       "      <th>893</th>\n",
       "      <td>0</td>\n",
       "    </tr>\n",
       "    <tr>\n",
       "      <th>894</th>\n",
       "      <td>0</td>\n",
       "    </tr>\n",
       "    <tr>\n",
       "      <th>895</th>\n",
       "      <td>0</td>\n",
       "    </tr>\n",
       "    <tr>\n",
       "      <th>896</th>\n",
       "      <td>0</td>\n",
       "    </tr>\n",
       "    <tr>\n",
       "      <th>...</th>\n",
       "      <td>...</td>\n",
       "    </tr>\n",
       "    <tr>\n",
       "      <th>1305</th>\n",
       "      <td>0</td>\n",
       "    </tr>\n",
       "    <tr>\n",
       "      <th>1306</th>\n",
       "      <td>1</td>\n",
       "    </tr>\n",
       "    <tr>\n",
       "      <th>1307</th>\n",
       "      <td>0</td>\n",
       "    </tr>\n",
       "    <tr>\n",
       "      <th>1308</th>\n",
       "      <td>0</td>\n",
       "    </tr>\n",
       "    <tr>\n",
       "      <th>1309</th>\n",
       "      <td>0</td>\n",
       "    </tr>\n",
       "  </tbody>\n",
       "</table>\n",
       "<p>418 rows × 1 columns</p>\n",
       "</div>"
      ],
      "text/plain": [
       "             Survived\n",
       "PassengerId          \n",
       "892                 0\n",
       "893                 0\n",
       "894                 0\n",
       "895                 0\n",
       "896                 0\n",
       "...               ...\n",
       "1305                0\n",
       "1306                1\n",
       "1307                0\n",
       "1308                0\n",
       "1309                0\n",
       "\n",
       "[418 rows x 1 columns]"
      ]
     },
     "execution_count": 44,
     "metadata": {},
     "output_type": "execute_result"
    }
   ],
   "source": [
    "result"
   ]
  },
  {
   "cell_type": "code",
   "execution_count": 45,
   "id": "969cec62",
   "metadata": {
    "execution": {
     "iopub.execute_input": "2024-01-03T22:56:32.956727Z",
     "iopub.status.busy": "2024-01-03T22:56:32.956291Z",
     "iopub.status.idle": "2024-01-03T22:56:32.967025Z",
     "shell.execute_reply": "2024-01-03T22:56:32.965993Z"
    },
    "papermill": {
     "duration": 0.046441,
     "end_time": "2024-01-03T22:56:32.970075",
     "exception": false,
     "start_time": "2024-01-03T22:56:32.923634",
     "status": "completed"
    },
    "tags": []
   },
   "outputs": [],
   "source": [
    "result.to_csv('submission.csv')"
   ]
  },
  {
   "cell_type": "code",
   "execution_count": 46,
   "id": "0417c81f",
   "metadata": {
    "execution": {
     "iopub.execute_input": "2024-01-03T22:56:33.035382Z",
     "iopub.status.busy": "2024-01-03T22:56:33.034882Z",
     "iopub.status.idle": "2024-01-03T22:56:33.045553Z",
     "shell.execute_reply": "2024-01-03T22:56:33.044342Z"
    },
    "papermill": {
     "duration": 0.045823,
     "end_time": "2024-01-03T22:56:33.048130",
     "exception": false,
     "start_time": "2024-01-03T22:56:33.002307",
     "status": "completed"
    },
    "tags": []
   },
   "outputs": [
    {
     "name": "stdout",
     "output_type": "stream",
     "text": [
      "Your submission was successfully saved!\n"
     ]
    }
   ],
   "source": [
    "output = pd.DataFrame({'PassengerId': test.PassengerId, 'Survived': final_predictions_log_model})\n",
    "output.to_csv('submission.csv', index=False)\n",
    "print(\"Your submission was successfully saved!\")"
   ]
  },
  {
   "cell_type": "code",
   "execution_count": null,
   "id": "3ae17c20",
   "metadata": {
    "papermill": {
     "duration": 0.030675,
     "end_time": "2024-01-03T22:56:33.110558",
     "exception": false,
     "start_time": "2024-01-03T22:56:33.079883",
     "status": "completed"
    },
    "tags": []
   },
   "outputs": [],
   "source": []
  }
 ],
 "metadata": {
  "kaggle": {
   "accelerator": "none",
   "dataSources": [
    {
     "databundleVersionId": 26502,
     "sourceId": 3136,
     "sourceType": "competition"
    }
   ],
   "dockerImageVersionId": 30626,
   "isGpuEnabled": false,
   "isInternetEnabled": false,
   "language": "python",
   "sourceType": "notebook"
  },
  "kernelspec": {
   "display_name": "Python 3",
   "language": "python",
   "name": "python3"
  },
  "language_info": {
   "codemirror_mode": {
    "name": "ipython",
    "version": 3
   },
   "file_extension": ".py",
   "mimetype": "text/x-python",
   "name": "python",
   "nbconvert_exporter": "python",
   "pygments_lexer": "ipython3",
   "version": "3.10.12"
  },
  "papermill": {
   "default_parameters": {},
   "duration": 107.645044,
   "end_time": "2024-01-03T22:56:33.965800",
   "environment_variables": {},
   "exception": null,
   "input_path": "__notebook__.ipynb",
   "output_path": "__notebook__.ipynb",
   "parameters": {},
   "start_time": "2024-01-03T22:54:46.320756",
   "version": "2.4.0"
  }
 },
 "nbformat": 4,
 "nbformat_minor": 5
}
